{
 "cells": [
  {
   "cell_type": "markdown",
   "metadata": {},
   "source": [
    "# Assignment 2 - Rajas Thakur"
   ]
  },
  {
   "cell_type": "code",
   "execution_count": 2,
   "metadata": {
    "id": "nwt5O2PZOEsv"
   },
   "outputs": [],
   "source": [
    "import numpy as np\n",
    "from sklearn import decomposition\n",
    "from scipy import linalg\n",
    "import matplotlib.pyplot as plt\n",
    "import pandas as pd\n",
    "import re\n",
    "import nltk\n",
    "import spacy\n",
    "from sklearn.pipeline import Pipeline\n",
    "from sklearn.pipeline import make_pipeline\n",
    "from sklearn.feature_extraction.text import CountVectorizer\n",
    "from sklearn.feature_extraction.text import TfidfVectorizer\n",
    "from sklearn.model_selection import GridSearchCV"
   ]
  },
  {
   "cell_type": "code",
   "execution_count": 132,
   "metadata": {
    "colab": {
     "base_uri": "https://localhost:8080/",
     "height": 34
    },
    "id": "SqhyWj-FPRDv",
    "outputId": "4e0c82be-1a1b-430d-d4a9-4cc65edefa5f"
   },
   "outputs": [
    {
     "name": "stdout",
     "output_type": "stream",
     "text": [
      "Drive already mounted at /content/drive; to attempt to forcibly remount, call drive.mount(\"/content/drive\", force_remount=True).\n"
     ]
    }
   ],
   "source": [
    "from google.colab import drive\n",
    "drive.mount('/content/drive')"
   ]
  },
  {
   "cell_type": "code",
   "execution_count": 133,
   "metadata": {
    "colab": {
     "base_uri": "https://localhost:8080/",
     "height": 50
    },
    "id": "Mmx7aPLLOQxl",
    "outputId": "c03f21dd-c10a-444e-93f9-b4759c689c21"
   },
   "outputs": [
    {
     "name": "stdout",
     "output_type": "stream",
     "text": [
      "[Errno 2] No such file or directory: 'drive/My Drive/AppliedNLP/HW2'\n",
      "/content/drive/My Drive/AppliedNLP/HW2\n"
     ]
    }
   ],
   "source": [
    "cd 'drive/My Drive/AppliedNLP/HW2'"
   ]
  },
  {
   "cell_type": "markdown",
   "metadata": {
    "id": "GHfs_fdrPcL3"
   },
   "source": [
    "### Exploratory Data Analysis and Data Preprocessing "
   ]
  },
  {
   "cell_type": "code",
   "execution_count": 134,
   "metadata": {
    "id": "ur3eIicOPg4g"
   },
   "outputs": [],
   "source": [
    "train1 = pd.read_csv('train.csv')"
   ]
  },
  {
   "cell_type": "code",
   "execution_count": 135,
   "metadata": {
    "colab": {
     "base_uri": "https://localhost:8080/",
     "height": 370
    },
    "id": "m8XSG1-uQKMv",
    "outputId": "597d8aac-02f2-4bde-b78c-7704b3ba8b36"
   },
   "outputs": [
    {
     "name": "stdout",
     "output_type": "stream",
     "text": [
      "<class 'pandas.core.frame.DataFrame'>\n",
      "RangeIndex: 89970 entries, 0 to 89969\n",
      "Data columns (total 14 columns):\n",
      " #   Column                 Non-Null Count  Dtype  \n",
      "---  ------                 --------------  -----  \n",
      " 0   Id                     89970 non-null  int64  \n",
      " 1   country                89927 non-null  object \n",
      " 2   description            89970 non-null  object \n",
      " 3   designation            64086 non-null  object \n",
      " 4   points                 89970 non-null  int64  \n",
      " 5   price                  83828 non-null  float64\n",
      " 6   province               89927 non-null  object \n",
      " 7   region_1               75108 non-null  object \n",
      " 8   region_2               34869 non-null  object \n",
      " 9   taster_name            71843 non-null  object \n",
      " 10  taster_twitter_handle  68373 non-null  object \n",
      " 11  title                  89970 non-null  object \n",
      " 12  variety                89970 non-null  object \n",
      " 13  winery                 89970 non-null  object \n",
      "dtypes: float64(1), int64(2), object(11)\n",
      "memory usage: 9.6+ MB\n"
     ]
    }
   ],
   "source": [
    "train1.info()"
   ]
  },
  {
   "cell_type": "code",
   "execution_count": 136,
   "metadata": {
    "colab": {
     "base_uri": "https://localhost:8080/",
     "height": 98
    },
    "id": "u7rm2_16QME2",
    "outputId": "f001bd44-d96b-4ab5-d045-b5dc0b82815b"
   },
   "outputs": [
    {
     "data": {
      "text/html": [
       "<style  type=\"text/css\" >\n",
       "#T_80ae0888_0cec_11eb_a7c4_0242ac1c0002row0_col0,#T_80ae0888_0cec_11eb_a7c4_0242ac1c0002row1_col1,#T_80ae0888_0cec_11eb_a7c4_0242ac1c0002row2_col2{\n",
       "            background-color:  #b40426;\n",
       "            color:  #f1f1f1;\n",
       "        }#T_80ae0888_0cec_11eb_a7c4_0242ac1c0002row0_col1,#T_80ae0888_0cec_11eb_a7c4_0242ac1c0002row0_col2,#T_80ae0888_0cec_11eb_a7c4_0242ac1c0002row2_col0{\n",
       "            background-color:  #3b4cc0;\n",
       "            color:  #f1f1f1;\n",
       "        }#T_80ae0888_0cec_11eb_a7c4_0242ac1c0002row1_col0{\n",
       "            background-color:  #3c4ec2;\n",
       "            color:  #f1f1f1;\n",
       "        }#T_80ae0888_0cec_11eb_a7c4_0242ac1c0002row1_col2,#T_80ae0888_0cec_11eb_a7c4_0242ac1c0002row2_col1{\n",
       "            background-color:  #c1d4f4;\n",
       "            color:  #000000;\n",
       "        }</style><table id=\"T_80ae0888_0cec_11eb_a7c4_0242ac1c0002\" ><thead>    <tr>        <th class=\"blank level0\" ></th>        <th class=\"col_heading level0 col0\" >Id</th>        <th class=\"col_heading level0 col1\" >points</th>        <th class=\"col_heading level0 col2\" >price</th>    </tr></thead><tbody>\n",
       "                <tr>\n",
       "                        <th id=\"T_80ae0888_0cec_11eb_a7c4_0242ac1c0002level0_row0\" class=\"row_heading level0 row0\" >Id</th>\n",
       "                        <td id=\"T_80ae0888_0cec_11eb_a7c4_0242ac1c0002row0_col0\" class=\"data row0 col0\" >1.000000</td>\n",
       "                        <td id=\"T_80ae0888_0cec_11eb_a7c4_0242ac1c0002row0_col1\" class=\"data row0 col1\" >0.006112</td>\n",
       "                        <td id=\"T_80ae0888_0cec_11eb_a7c4_0242ac1c0002row0_col2\" class=\"data row0 col2\" >0.002072</td>\n",
       "            </tr>\n",
       "            <tr>\n",
       "                        <th id=\"T_80ae0888_0cec_11eb_a7c4_0242ac1c0002level0_row1\" class=\"row_heading level0 row1\" >points</th>\n",
       "                        <td id=\"T_80ae0888_0cec_11eb_a7c4_0242ac1c0002row1_col0\" class=\"data row1 col0\" >0.006112</td>\n",
       "                        <td id=\"T_80ae0888_0cec_11eb_a7c4_0242ac1c0002row1_col1\" class=\"data row1 col1\" >1.000000</td>\n",
       "                        <td id=\"T_80ae0888_0cec_11eb_a7c4_0242ac1c0002row1_col2\" class=\"data row1 col2\" >0.407324</td>\n",
       "            </tr>\n",
       "            <tr>\n",
       "                        <th id=\"T_80ae0888_0cec_11eb_a7c4_0242ac1c0002level0_row2\" class=\"row_heading level0 row2\" >price</th>\n",
       "                        <td id=\"T_80ae0888_0cec_11eb_a7c4_0242ac1c0002row2_col0\" class=\"data row2 col0\" >0.002072</td>\n",
       "                        <td id=\"T_80ae0888_0cec_11eb_a7c4_0242ac1c0002row2_col1\" class=\"data row2 col1\" >0.407324</td>\n",
       "                        <td id=\"T_80ae0888_0cec_11eb_a7c4_0242ac1c0002row2_col2\" class=\"data row2 col2\" >1.000000</td>\n",
       "            </tr>\n",
       "    </tbody></table>"
      ],
      "text/plain": [
       "<pandas.io.formats.style.Styler at 0x7fbb69a0b0f0>"
      ]
     },
     "execution_count": 136,
     "metadata": {
      "tags": []
     },
     "output_type": "execute_result"
    }
   ],
   "source": [
    "# Plotting a correlation matrix\n",
    "corr=train1.corr()\n",
    "corr.style.background_gradient(cmap='coolwarm')"
   ]
  },
  {
   "cell_type": "code",
   "execution_count": 137,
   "metadata": {
    "colab": {
     "base_uri": "https://localhost:8080/",
     "height": 269
    },
    "id": "Zjey7qYGRELn",
    "outputId": "b192f13b-18b1-47f0-86c0-f37512e57227"
   },
   "outputs": [
    {
     "data": {
      "text/plain": [
       "Id                       False\n",
       "country                   True\n",
       "description              False\n",
       "designation               True\n",
       "points                   False\n",
       "price                     True\n",
       "province                  True\n",
       "region_1                  True\n",
       "region_2                  True\n",
       "taster_name               True\n",
       "taster_twitter_handle     True\n",
       "title                    False\n",
       "variety                  False\n",
       "winery                   False\n",
       "dtype: bool"
      ]
     },
     "execution_count": 137,
     "metadata": {
      "tags": []
     },
     "output_type": "execute_result"
    }
   ],
   "source": [
    "# Checking for null values in train dataset\n",
    "train1.isna().any()"
   ]
  },
  {
   "cell_type": "code",
   "execution_count": 138,
   "metadata": {
    "colab": {
     "base_uri": "https://localhost:8080/",
     "height": 269
    },
    "id": "5rPiOVyGRKng",
    "outputId": "c29110ad-d367-4645-b8df-beabc715afcf"
   },
   "outputs": [
    {
     "data": {
      "text/plain": [
       "Id                       0.000000\n",
       "country                  0.000478\n",
       "description              0.000000\n",
       "designation              0.287696\n",
       "points                   0.000000\n",
       "price                    0.068267\n",
       "province                 0.000478\n",
       "region_1                 0.165188\n",
       "region_2                 0.612437\n",
       "taster_name              0.201478\n",
       "taster_twitter_handle    0.240047\n",
       "title                    0.000000\n",
       "variety                  0.000000\n",
       "winery                   0.000000\n",
       "dtype: float64"
      ]
     },
     "execution_count": 138,
     "metadata": {
      "tags": []
     },
     "output_type": "execute_result"
    }
   ],
   "source": [
    "# Checking the percentage of missing data in train data\n",
    "train1.isna().sum()/train1.shape[0]"
   ]
  },
  {
   "cell_type": "code",
   "execution_count": 139,
   "metadata": {
    "id": "ICXrI0xjRNE7"
   },
   "outputs": [],
   "source": [
    "public = pd.read_csv('public.csv')\n",
    "private = pd.read_csv('private.csv')"
   ]
  },
  {
   "cell_type": "code",
   "execution_count": 140,
   "metadata": {
    "colab": {
     "base_uri": "https://localhost:8080/",
     "height": 386
    },
    "id": "rGFbaqrrUAio",
    "outputId": "937d168f-8daa-4b82-fdd3-183df76e163e"
   },
   "outputs": [
    {
     "name": "stdout",
     "output_type": "stream",
     "text": [
      "<class 'pandas.core.frame.DataFrame'>\n",
      "RangeIndex: 20001 entries, 0 to 20000\n",
      "Data columns (total 15 columns):\n",
      " #   Column                 Non-Null Count  Dtype  \n",
      "---  ------                 --------------  -----  \n",
      " 0   Id                     20001 non-null  int64  \n",
      " 1   country                19992 non-null  object \n",
      " 2   description            20001 non-null  object \n",
      " 3   designation            14201 non-null  object \n",
      " 4   points                 20001 non-null  int64  \n",
      " 5   price                  18523 non-null  float64\n",
      " 6   province               19992 non-null  object \n",
      " 7   region_1               16870 non-null  object \n",
      " 8   region_2               7830 non-null   object \n",
      " 9   taster_name            15924 non-null  object \n",
      " 10  taster_twitter_handle  15196 non-null  object \n",
      " 11  title                  20001 non-null  object \n",
      " 12  variety                20000 non-null  object \n",
      " 13  winery                 20001 non-null  object \n",
      " 14  Unnamed: 14            1 non-null      float64\n",
      "dtypes: float64(2), int64(2), object(11)\n",
      "memory usage: 2.3+ MB\n"
     ]
    }
   ],
   "source": [
    "public.info()"
   ]
  },
  {
   "cell_type": "code",
   "execution_count": 141,
   "metadata": {
    "colab": {
     "base_uri": "https://localhost:8080/",
     "height": 370
    },
    "id": "uGN3Bs2kUCjL",
    "outputId": "68d67dfc-4692-4d0b-c904-173f25afd568"
   },
   "outputs": [
    {
     "name": "stdout",
     "output_type": "stream",
     "text": [
      "<class 'pandas.core.frame.DataFrame'>\n",
      "RangeIndex: 20000 entries, 0 to 19999\n",
      "Data columns (total 14 columns):\n",
      " #   Column                 Non-Null Count  Dtype  \n",
      "---  ------                 --------------  -----  \n",
      " 0   Id                     20000 non-null  int64  \n",
      " 1   country                19989 non-null  object \n",
      " 2   description            20000 non-null  object \n",
      " 3   designation            14219 non-null  object \n",
      " 4   points                 20000 non-null  int64  \n",
      " 5   price                  18624 non-null  float64\n",
      " 6   province               19989 non-null  object \n",
      " 7   region_1               16746 non-null  object \n",
      " 8   region_2               7812 non-null   object \n",
      " 9   taster_name            15960 non-null  object \n",
      " 10  taster_twitter_handle  15189 non-null  object \n",
      " 11  title                  20000 non-null  object \n",
      " 12  variety                20000 non-null  object \n",
      " 13  winery                 20000 non-null  object \n",
      "dtypes: float64(1), int64(2), object(11)\n",
      "memory usage: 2.1+ MB\n"
     ]
    }
   ],
   "source": [
    "private.info()"
   ]
  },
  {
   "cell_type": "code",
   "execution_count": 142,
   "metadata": {
    "colab": {
     "base_uri": "https://localhost:8080/",
     "height": 286
    },
    "id": "eFn3gaLoUEqW",
    "outputId": "c277f116-e243-464e-9c54-f6a190f02b63"
   },
   "outputs": [
    {
     "data": {
      "text/plain": [
       "Id                       0.000000\n",
       "country                  0.000450\n",
       "description              0.000000\n",
       "designation              0.289986\n",
       "points                   0.000000\n",
       "price                    0.073896\n",
       "province                 0.000450\n",
       "region_1                 0.156542\n",
       "region_2                 0.608520\n",
       "taster_name              0.203840\n",
       "taster_twitter_handle    0.240238\n",
       "title                    0.000000\n",
       "variety                  0.000050\n",
       "winery                   0.000000\n",
       "Unnamed: 14              0.999950\n",
       "dtype: float64"
      ]
     },
     "execution_count": 142,
     "metadata": {
      "tags": []
     },
     "output_type": "execute_result"
    }
   ],
   "source": [
    "# Checking the percentage of missing data in train data\n",
    "public.isna().sum()/public.shape[0]"
   ]
  },
  {
   "cell_type": "code",
   "execution_count": 143,
   "metadata": {
    "colab": {
     "base_uri": "https://localhost:8080/",
     "height": 269
    },
    "id": "570u_ujFUPVs",
    "outputId": "8700b768-c27c-4907-8679-e739adc94da9"
   },
   "outputs": [
    {
     "data": {
      "text/plain": [
       "Id                       0.00000\n",
       "country                  0.00055\n",
       "description              0.00000\n",
       "designation              0.28905\n",
       "points                   0.00000\n",
       "price                    0.06880\n",
       "province                 0.00055\n",
       "region_1                 0.16270\n",
       "region_2                 0.60940\n",
       "taster_name              0.20200\n",
       "taster_twitter_handle    0.24055\n",
       "title                    0.00000\n",
       "variety                  0.00000\n",
       "winery                   0.00000\n",
       "dtype: float64"
      ]
     },
     "execution_count": 143,
     "metadata": {
      "tags": []
     },
     "output_type": "execute_result"
    }
   ],
   "source": [
    "# Checking the percentage of missing data in train data\n",
    "private.isna().sum()/private.shape[0]"
   ]
  },
  {
   "cell_type": "code",
   "execution_count": 144,
   "metadata": {
    "id": "iRdEQfTbUYKR"
   },
   "outputs": [],
   "source": [
    "# We observe that there is big percentage of null values in these datasets for columns: Designation, Region_1, Region_2, Taster_name, Taster_twitter_handle\n",
    "# Hence we will drop these columns from our datasets.\n",
    "train1.drop(['designation','region_1','region_2','taster_name','taster_twitter_handle'],axis=1,inplace= True)\n",
    "public.drop(['designation','region_1','region_2','taster_name','taster_twitter_handle','Unnamed: 14'],axis=1,inplace= True)\n",
    "private.drop(['designation','region_1','region_2','taster_name','taster_twitter_handle'],axis=1,inplace= True)"
   ]
  },
  {
   "cell_type": "code",
   "execution_count": 145,
   "metadata": {
    "id": "09mML6uy_AxG"
   },
   "outputs": [],
   "source": [
    "# We still observe that there are few missing values in the columns: country, price and province. \n",
    "# We will use dropna to remove such rows from our data. If we impute price with Mean or Median, it will introduce bias in the model.\n",
    "train1.dropna(subset=['country','price','province'],inplace=True)"
   ]
  },
  {
   "cell_type": "code",
   "execution_count": 146,
   "metadata": {
    "id": "uZRN1meGDB2F"
   },
   "outputs": [],
   "source": [
    "public.dropna(subset=['country','price','province','variety'],inplace=True)\n",
    "private.dropna(subset=['country','price','province'],inplace=True)"
   ]
  },
  {
   "cell_type": "code",
   "execution_count": 147,
   "metadata": {
    "colab": {
     "base_uri": "https://localhost:8080/",
     "height": 195
    },
    "id": "T9lc-OxoDVKz",
    "outputId": "41a1cb6d-621f-4b72-83df-eaed4e17c31a"
   },
   "outputs": [
    {
     "data": {
      "text/html": [
       "<div>\n",
       "<style scoped>\n",
       "    .dataframe tbody tr th:only-of-type {\n",
       "        vertical-align: middle;\n",
       "    }\n",
       "\n",
       "    .dataframe tbody tr th {\n",
       "        vertical-align: top;\n",
       "    }\n",
       "\n",
       "    .dataframe thead th {\n",
       "        text-align: right;\n",
       "    }\n",
       "</style>\n",
       "<table border=\"1\" class=\"dataframe\">\n",
       "  <thead>\n",
       "    <tr style=\"text-align: right;\">\n",
       "      <th></th>\n",
       "      <th>Id</th>\n",
       "      <th>country</th>\n",
       "      <th>description</th>\n",
       "      <th>points</th>\n",
       "      <th>price</th>\n",
       "      <th>province</th>\n",
       "      <th>title</th>\n",
       "      <th>variety</th>\n",
       "      <th>winery</th>\n",
       "    </tr>\n",
       "  </thead>\n",
       "  <tbody>\n",
       "    <tr>\n",
       "      <th>0</th>\n",
       "      <td>69712</td>\n",
       "      <td>France</td>\n",
       "      <td>A buoyant wine, this has delicious acidity and...</td>\n",
       "      <td>89</td>\n",
       "      <td>17.0</td>\n",
       "      <td>Provence</td>\n",
       "      <td>Domaine de la Sanglière 2015 La Riviera Rosé (...</td>\n",
       "      <td>Rosé</td>\n",
       "      <td>Domaine de la Sanglière</td>\n",
       "    </tr>\n",
       "    <tr>\n",
       "      <th>1</th>\n",
       "      <td>1171</td>\n",
       "      <td>Germany</td>\n",
       "      <td>Despite weighing in at 12% alcohol, this seems...</td>\n",
       "      <td>86</td>\n",
       "      <td>20.0</td>\n",
       "      <td>Rheinhessen</td>\n",
       "      <td>Louis Guntrum 2006 Niersteiner Bergkirche Kabi...</td>\n",
       "      <td>Riesling</td>\n",
       "      <td>Louis Guntrum</td>\n",
       "    </tr>\n",
       "    <tr>\n",
       "      <th>2</th>\n",
       "      <td>129181</td>\n",
       "      <td>US</td>\n",
       "      <td>Sweet, simple and fruity, this light-bodied wi...</td>\n",
       "      <td>84</td>\n",
       "      <td>23.0</td>\n",
       "      <td>California</td>\n",
       "      <td>Naggiar 2016 Estate Muscat Canelli (Sierra Foo...</td>\n",
       "      <td>Muscat Canelli</td>\n",
       "      <td>Naggiar</td>\n",
       "    </tr>\n",
       "    <tr>\n",
       "      <th>3</th>\n",
       "      <td>116814</td>\n",
       "      <td>US</td>\n",
       "      <td>Tastes like a sweet and sour sauce mixed into ...</td>\n",
       "      <td>84</td>\n",
       "      <td>19.0</td>\n",
       "      <td>California</td>\n",
       "      <td>One Hope 2009 Sauvignon Blanc (California)</td>\n",
       "      <td>Sauvignon Blanc</td>\n",
       "      <td>One Hope</td>\n",
       "    </tr>\n",
       "    <tr>\n",
       "      <th>4</th>\n",
       "      <td>116519</td>\n",
       "      <td>Spain</td>\n",
       "      <td>As a one-liter package you get one-third more ...</td>\n",
       "      <td>86</td>\n",
       "      <td>9.0</td>\n",
       "      <td>Central Spain</td>\n",
       "      <td>Bodegas Eguren 2007 Tempranillo (Vino de la Ti...</td>\n",
       "      <td>Tempranillo</td>\n",
       "      <td>Bodegas Eguren</td>\n",
       "    </tr>\n",
       "  </tbody>\n",
       "</table>\n",
       "</div>"
      ],
      "text/plain": [
       "       Id  country  ...          variety                   winery\n",
       "0   69712   France  ...             Rosé  Domaine de la Sanglière\n",
       "1    1171  Germany  ...         Riesling            Louis Guntrum\n",
       "2  129181       US  ...   Muscat Canelli                  Naggiar\n",
       "3  116814       US  ...  Sauvignon Blanc                 One Hope\n",
       "4  116519    Spain  ...      Tempranillo           Bodegas Eguren\n",
       "\n",
       "[5 rows x 9 columns]"
      ]
     },
     "execution_count": 147,
     "metadata": {
      "tags": []
     },
     "output_type": "execute_result"
    }
   ],
   "source": [
    "train1.head()"
   ]
  },
  {
   "cell_type": "code",
   "execution_count": 148,
   "metadata": {
    "colab": {
     "base_uri": "https://localhost:8080/",
     "height": 168
    },
    "id": "oCnuUNLXD0K3",
    "outputId": "f758341c-52fc-4c57-c75e-74c000acf2b6"
   },
   "outputs": [
    {
     "data": {
      "text/plain": [
       "array(['France', 'Germany', 'US', 'Spain', 'Italy', 'Chile',\n",
       "       'New Zealand', 'Moldova', 'Argentina', 'Portugal', 'Israel',\n",
       "       'Australia', 'Austria', 'Canada', 'Hungary', 'South Africa',\n",
       "       'Peru', 'Greece', 'Turkey', 'Romania', 'Mexico', 'Slovenia',\n",
       "       'Macedonia', 'Cyprus', 'Georgia', 'England', 'Lebanon', 'Uruguay',\n",
       "       'Bulgaria', 'Morocco', 'Ukraine', 'Croatia', 'Switzerland',\n",
       "       'Brazil', 'Serbia', 'Luxembourg', 'Slovakia', 'Czech Republic',\n",
       "       'India', 'Bosnia and Herzegovina', 'Armenia', 'China'],\n",
       "      dtype=object)"
      ]
     },
     "execution_count": 148,
     "metadata": {
      "tags": []
     },
     "output_type": "execute_result"
    }
   ],
   "source": [
    "# Checking for unique values of Country column\n",
    "train1['country'].unique()"
   ]
  },
  {
   "cell_type": "code",
   "execution_count": 149,
   "metadata": {
    "colab": {
     "base_uri": "https://localhost:8080/",
     "height": 1000
    },
    "id": "8HpMuKZ4ElQp",
    "outputId": "e8a1ea0c-ef66-4aca-b76a-ed4745ec6294"
   },
   "outputs": [
    {
     "data": {
      "text/plain": [
       "array(['Provence', 'Rheinhessen', 'California', 'Central Spain',\n",
       "       'Sicily & Sardinia', 'Maule Valley', 'Southern Italy',\n",
       "       'Washington', 'Northeastern Italy', 'Mosel', 'Oregon',\n",
       "       'Marlborough', 'Bordeaux', 'Iowa', 'Moldova', 'Rheingau',\n",
       "       'Mendoza Province', 'Dão', 'Northern Spain', 'Awatere Valley',\n",
       "       'Douro', 'Alsace', 'Limarí Valley', 'Galilee', 'Idaho', 'Veneto',\n",
       "       'New York', 'South Australia', 'Burgenland', 'Burgundy',\n",
       "       'Languedoc-Roussillon', 'Piedmont', 'Tuscany', 'Rhône Valley',\n",
       "       'Champagne', 'Colchagua Valley', 'France Other', 'Catalonia',\n",
       "       'Bairrada', 'British Columbia', 'Maipo Valley', 'Tejo', 'Other',\n",
       "       'Loire Valley', 'Kamptal', 'Villány', 'Judean Hills',\n",
       "       'Central Italy', 'Vinho Verde', 'Beaujolais', 'Codru Region',\n",
       "       'Kremstal', 'Virginia', 'Casablanca Valley', 'Niederösterreich',\n",
       "       'Southwest France', 'New Mexico', 'Eisenberg', 'Australia Other',\n",
       "       'Alentejano', 'Walker Bay', 'Tokaji', 'Stellenbosch',\n",
       "       'Franschhoek', 'Pennsylvania', 'Port', 'Galicia',\n",
       "       'New South Wales', 'Ica', 'Paarl', 'Western Cape', 'Naoussa',\n",
       "       'Italy Other', 'Ontario', 'Nemea', 'Western Australia', 'Aegean',\n",
       "       'Spain Other', 'Thermenregion', 'Robertson', 'Lombardy',\n",
       "       'Weinviertel', 'Alentejo', 'Elgin', 'Baden', 'Victoria',\n",
       "       'Simonsberg-Stellenbosch', 'Rhode Island', 'Coastal Region',\n",
       "       'Lisboa', 'Tokaj', 'Dealurile Munteniei', 'Península de Setúbal',\n",
       "       'Valle de Guadalupe', 'Rapel Valley', 'Andalucia', 'Sterea Ellada',\n",
       "       'Leyda Valley', 'Beira Interior', 'Pangeon', 'Central Valley',\n",
       "       'Nelson', 'Levante', 'Central Otago', 'Northwestern Italy',\n",
       "       'Madeira', 'Colorado', 'Shomron', 'Traisental',\n",
       "       'Österreichischer Sekt', 'Wellington', 'Texas', 'Curicó Valley',\n",
       "       'Terras do Sado', 'South Island', 'Itata Valley', 'Martinborough',\n",
       "       'Atalanti Valley', 'Wachau', 'Ribatejano', 'Mosel-Saar-Ruwer',\n",
       "       'Lontué Valley', 'Turkey', 'Dan', 'Kumeu', 'Michigan', 'Bucelas',\n",
       "       'Goriska Brda', 'Minho', 'Goumenissa', 'Aconcagua Costa', 'Tikves',\n",
       "       'Commandaria', 'Hungary', 'Upper Galilee', 'Swartland',\n",
       "       'Chalkidiki', 'Tasmania', 'North Carolina', 'Colchagua Costa',\n",
       "       'Portuguese Table Wine', 'Canterbury', 'Cachapoal Valley',\n",
       "       'Georgia', 'Ohio', 'Aconcagua Valley', 'Peumo', 'Corinth',\n",
       "       'England', 'Austria', \"Hawke's Bay\", 'Crete', 'Eger', 'Pfalz',\n",
       "       'Bekaa Valley', 'Mittelburgenland', 'Vienna', 'Galil', 'Nahe',\n",
       "       'Canelones', 'Bío Bío Valley', 'Thracian Valley', 'Zenata',\n",
       "       'Ukraine', 'Wiener Gemischter Satz', 'Morocco', 'Primorska',\n",
       "       'Juanico', 'Germany', 'America', 'Algarve', 'Cephalonia', 'Ankara',\n",
       "       'North Dalmatia', 'Missouri', 'Moscatel de Setúbal', 'Uruguay',\n",
       "       'Arcadia', 'Weinland Österreich', 'Dealu Mare', 'Arizona',\n",
       "       'Wagram', 'Bot River', 'Mátra', 'Wairau Valley', 'Haut-Judeé',\n",
       "       'Israel', 'Peljesac', 'Elqui Valley', 'Südsteiermark',\n",
       "       'New Zealand', 'Viile Timisului', 'Peloponnese', 'Groenekloof',\n",
       "       'Carnuntum', 'Cauquenes Valley', 'Marchigue', 'Bulgaria',\n",
       "       'Vermont', 'Spanish Islands', 'Progreso', 'Switzerland',\n",
       "       'Leithaberg', 'Slovenia', 'Vânju Mare', 'Podunavlje',\n",
       "       'Wagram-Donauland', 'Santorini', 'Kakheti', 'Duriense',\n",
       "       'Simonsberg-Paarl', 'Pageon', 'Achaia', 'Drama', 'Chile',\n",
       "       'Waipara', 'Romania', 'Agioritikos', 'Monemvasia', 'Apalta',\n",
       "       'Vale dos Vinhedos', 'Helderberg', 'Landwein Rhein', 'Negev Hills',\n",
       "       'Waipara Valley', 'Halkidiki', 'Beiras', 'Eilandia', 'Štajerska',\n",
       "       'Cahul', 'Rapsani', 'Constantia', 'Südoststeiermark', 'Istria',\n",
       "       'San Antonio', 'Župa', 'Casablanca & Leyda Valleys', 'Greece',\n",
       "       'Moscatel do Douro', 'Cape Agulhas', 'Elazığ-Diyarbakir',\n",
       "       'Südburgenland', 'Vale Trentino', 'Thrace', 'Elim', 'Lolol Valley',\n",
       "       'Gisborne', 'Vin de Pays de Velvendo', 'Golan Heights', 'Epanomi',\n",
       "       'Steiermark', 'Hemel en Aarde', 'Franken', 'Württemberg',\n",
       "       'Loncomilla Valley', 'Campanha', 'Moselle Luxembourgeoise',\n",
       "       'Tulbagh', 'South Africa', 'Macedonia', 'Buin',\n",
       "       'Österreichischer Perlwein', 'Mantinia', 'Panciu', 'Ismarikos',\n",
       "       'Jidvei', 'Lebanon', 'Wairarapa', 'Muzla', 'Brazil', 'Cyclades',\n",
       "       'Neuchâtel', 'Northern Cape', 'Serra do Sudeste', 'Serra Gaúcha',\n",
       "       'Santa Catarina', 'Moravia', 'Casablanca-Curicó Valley',\n",
       "       'Alenquer', 'Ella Valley', 'Jonkershoek Valley', 'Setubal',\n",
       "       'Vinho Espumante de Qualidade', 'Brda', 'Elazığ', 'Estremadura',\n",
       "       'Limnos', 'Breedekloof', 'Beira Atlantico', 'Overberg', 'Illinois',\n",
       "       'Cape Peninsula', 'Montevideo', 'Coelemu', 'Kras',\n",
       "       'Danube River Plains', 'Palmela', 'Durbanville', 'Cappadocia',\n",
       "       'Waiheke Island', 'Samson', 'San Jose', 'San Clemente',\n",
       "       'Mavrodaphne of Patras', 'Vinho Licoroso', 'Dolenjska',\n",
       "       'Mount Athos', 'Waitaki Valley', 'Massachusetts', 'Pirque',\n",
       "       'Tarnave', 'Nashik', 'Darling', 'Slovenska Istra',\n",
       "       'Vinho Espumante', 'Attica', 'Ribatejo', 'Vipavska Dolina',\n",
       "       'Atlantida', 'Recas', 'Szekszárd', 'Dingač', 'Santa Cruz',\n",
       "       'Portugal', 'Curicó and Leyda Valleys', 'Connecticut', 'Sithonia',\n",
       "       'Korčula', 'Korinthia', 'Rio Claro', 'Samos', 'Philadelphia',\n",
       "       'Choapa Valley', 'Amyndeon', 'Maipo Valley-Colchagua Valley',\n",
       "       'Lemesos', 'Olifants River', 'Canada Other', 'Lakonia', 'Florina',\n",
       "       'Sebes', 'Jerusalem Hills', 'Devon Valley', 'Patras',\n",
       "       'Urla-Thrace', 'Washington-Oregon', 'Neusiedlersee',\n",
       "       'Black Sea Coastal', 'Murfatlar', 'Puente Alto', 'Cederberg',\n",
       "       'Sagrada Familia', 'Hvar', 'Molina', 'Polkadraai Hills',\n",
       "       'Terras do Dão', 'Letrinon', 'Markopoulo', 'Corinthia', 'Ahr',\n",
       "       'Obidos', 'Nevada', 'Messinia', 'Imathia', 'Pafos', 'Viile Timis',\n",
       "       'Leyda Valley-Maipo Valley', 'Mostar', 'New Jersey', 'Sopron',\n",
       "       'Trás-os-Montes', 'Retsina', 'Valais', 'East Coast', 'Cyprus',\n",
       "       'Armenia', 'Gladstone', 'Colares', 'Dalmatian Coast',\n",
       "       'Mittelrhein', 'Pinto Bandeira', 'Távora-Varosa', 'Central Greece',\n",
       "       'Kutjevo', 'Alenteo', 'Amindeo', 'Mavrodaphne de Cephalonie',\n",
       "       'Negev', 'Vlootenburg', 'China', 'Table wine', 'Lutzville Valley',\n",
       "       'Krk', 'Muscat of Patras', 'San Antonio de las Minas Valley',\n",
       "       'Breede River Valley', 'Fruška Gora', 'Curicó and Maipo Valleys',\n",
       "       'San Vicente', 'Hawaii', 'Beotia'], dtype=object)"
      ]
     },
     "execution_count": 149,
     "metadata": {
      "tags": []
     },
     "output_type": "execute_result"
    }
   ],
   "source": [
    "# Checking for unique values of Province column\n",
    "train1['province'].unique()"
   ]
  },
  {
   "cell_type": "code",
   "execution_count": 150,
   "metadata": {
    "colab": {
     "base_uri": "https://localhost:8080/",
     "height": 1000
    },
    "id": "U-mGpL-wE7cv",
    "outputId": "efd2602f-0766-469d-f5c0-7676b3afa07d"
   },
   "outputs": [
    {
     "data": {
      "text/plain": [
       "array(['Rosé', 'Riesling', 'Muscat Canelli', 'Sauvignon Blanc',\n",
       "       'Tempranillo', 'Pinot Noir', 'Carricante', 'Carmenère', 'Merlot',\n",
       "       'Zinfandel', 'Greco', 'Pinot Bianco', 'Roussanne', 'Chardonnay',\n",
       "       'White Blend', 'Cabernet Sauvignon', 'Petit Verdot',\n",
       "       'Pinot Grigio', 'Sangiovese', 'Bonarda', 'Portuguese Red',\n",
       "       'Tinta de Toro', 'Red Blend', 'Muscat', 'Chenin Blanc', 'Syrah',\n",
       "       'Gewürztraminer', 'Cabernet Franc', 'Cabernet Blend',\n",
       "       'Bordeaux-style Red Blend', 'Sparkling Blend', 'Mencía',\n",
       "       'Charbono', 'Sauvignon Blanc-Chardonnay', 'Grenache',\n",
       "       'Rhône-style Red Blend', 'Barbera', 'Rhône-style White Blend',\n",
       "       'Lagrein', 'Champagne Blend', 'Viognier', 'Malbec', 'Primitivo',\n",
       "       'Jacquère', 'Bical', 'Pinot Blanc', 'Dolcetto',\n",
       "       'Viognier-Chardonnay', 'Mourvèdre', 'Torrontés', 'Melon',\n",
       "       'Nuragus', 'Grüner Veltliner', 'Encruzado', 'Aligoté',\n",
       "       'Vermentino', 'Nebbiolo', 'Prosecco', 'Alvarinho', 'Shiraz',\n",
       "       'Viura', 'Rosato', 'Gamay', 'Garganega', 'Aglianico', 'Garnacha',\n",
       "       'Verdejo', 'Sauvignon', 'Chardonnay-Viognier',\n",
       "       'Merlot-Cabernet Sauvignon', 'Zweigelt', 'Tannat', 'Port',\n",
       "       'Cabernet Sauvignon-Syrah', 'Montepulciano', 'Blaufränkisch',\n",
       "       'Meritage', 'Viognier-Marsanne', 'Syrah-Petit Verdot',\n",
       "       'Cabernet Merlot', 'Bordeaux-style White Blend',\n",
       "       'Prugnolo Gentile', 'Welschriesling', 'Pinot Gris',\n",
       "       'Malbec-Cabernet Franc', 'Furmint', 'Albariño',\n",
       "       'Corvina, Rondinella, Molinara', 'Fiano', 'Provence red blend',\n",
       "       'Arneis', 'Xinomavro', 'Portuguese White', 'Moscato',\n",
       "       'Agiorgitiko', 'Pinot Noir-Gamay', 'Lemberger', 'Rotgipfler',\n",
       "       'Insolia', 'Petite Sirah', 'Tempranillo Blend', 'Rosado',\n",
       "       'Sangiovese Grosso', 'Trepat', 'Spätburgunder', 'Coda di Volpe',\n",
       "       'Pinotage', 'Fumé Blanc', 'Graciano', 'Cortese', 'Sherry',\n",
       "       'Tinto Fino', 'Trincadeira', 'Savatiano', 'Marsanne', 'Assyrtico',\n",
       "       'Semillon-Sauvignon Blanc', 'Glera', 'Ribolla Gialla',\n",
       "       'Monastrell', 'G-S-M', 'Bual', 'Tempranillo-Cabernet Sauvignon',\n",
       "       'Gros and Petit Manseng', 'Frappato', 'Friulano', 'Malbec-Tannat',\n",
       "       'Teroldego', 'Sauvignon Blanc-Chenin Blanc', 'Lambrusco',\n",
       "       'Trebbiano', 'Duras', 'Emir', 'Roussanne-Viognier', 'Verdelho',\n",
       "       'Uva di Troia', 'Cannonau', 'Pignoletto', 'Arinto', 'Schiava',\n",
       "       'Cabernet Sauvignon-Merlot', 'Tocai', 'Falanghina',\n",
       "       'Alicante Bouschet', 'Vernaccia', 'Sémillon',\n",
       "       'Portuguese Sparkling', 'Alfrocheiro', 'Alsace white blend',\n",
       "       'Nerello Mascalese', 'Orange Muscat', 'Xinisteri',\n",
       "       'Garnacha-Cariñena', 'Touriga Nacional', 'Tokaji', 'Loureiro',\n",
       "       'Petit Manseng', 'Malagouzia', 'Pinot Nero', 'Moscato Giallo',\n",
       "       'Provence white blend', 'Antão Vaz', \"Nero d'Avola\",\n",
       "       'Tocai Friulano', 'Vidal Blanc', 'Chenin Blanc-Chardonnay',\n",
       "       'Prieto Picudo', \"Loin de l'Oeil\", 'Prié Blanc', 'Grenache-Syrah',\n",
       "       'Semillon-Chardonnay', 'Syrah-Grenache', 'Malvasia', 'Mondeuse',\n",
       "       'Gros Manseng', 'Assyrtiko', 'Aragonês', 'Grenache Blanc',\n",
       "       'Malbec-Merlot', 'St. Laurent', 'Tannat-Cabernet', 'Godello',\n",
       "       'Colombard-Ugni Blanc', 'Passerina',\n",
       "       'Cabernet Sauvignon-Sangiovese', 'Neuburger', 'Baga',\n",
       "       'Grenache-Carignan', 'Norton', 'Pinot Blanc-Viognier',\n",
       "       'Austrian white blend', 'Cabernet Sauvignon-Carmenère', 'Argaman',\n",
       "       'Chambourcin', 'White Riesling', 'Carignane', 'Weissburgunder',\n",
       "       'Rebula', 'Claret', 'Traminer', 'Torbato', 'Okuzgozu', 'Cinsault',\n",
       "       'Negroamaro', 'Auxerrois', 'Garnacha Blanca', 'Turbiana', 'Grillo',\n",
       "       'Colombard-Sauvignon Blanc', 'Pedro Ximénez', 'Tinta Miúda',\n",
       "       'Chenin Blanc-Sauvignon Blanc', 'Inzolia', 'Bobal',\n",
       "       'Shiraz-Viognier', 'Castelão', 'Counoise', 'Saperavi', 'Raboso',\n",
       "       'Kalecik Karasi', 'Shiraz-Grenache', 'Babić', 'Savagnin',\n",
       "       'Aragonez', 'Xarel-lo', 'Syrah-Carignan', 'Gamay Noir', 'Moscatel',\n",
       "       'Carignan', 'Colombard', 'Trousseau', 'Nerello Cappuccio',\n",
       "       'Ugni Blanc-Colombard', 'Casavecchia', 'Lambrusco di Sorbara',\n",
       "       'Sauvignon Blanc-Semillon', 'Irsai Oliver',\n",
       "       'Chardonnay-Sauvignon Blanc', 'Scheurebe',\n",
       "       'Malbec-Cabernet Sauvignon', 'Carignan-Syrah', 'Albana',\n",
       "       'Grenache Blend', 'Tokay', 'Sousão', 'Müller-Thurgau', 'Jacquez',\n",
       "       'Moschofilero', 'Grauburgunder', 'Sagrantino', 'Pecorino', 'Sacy',\n",
       "       'Elbling', 'Garnacha Tintorera', 'Macabeo',\n",
       "       'Tannat-Cabernet Franc', 'Verdicchio', 'Siria', 'Dornfelder',\n",
       "       'Durella', 'Sylvaner', 'Seyval Blanc', 'Shiraz-Cabernet Sauvignon',\n",
       "       'Chardonnay-Sauvignon', 'Syrah-Cabernet', 'Fernão Pires',\n",
       "       'Roter Veltliner', 'Pinot-Chardonnay', 'Cabernet Sauvignon-Shiraz',\n",
       "       'Pinot Meunier', 'Pinot Auxerrois', \"Cesanese d'Affile\",\n",
       "       'Veltliner', 'Viura-Chardonnay', 'Petite Verdot', 'Kerner',\n",
       "       'Cabernet Sauvignon-Barbera', 'Garnacha Blend', 'Nosiola',\n",
       "       'Cabernet Sauvignon-Malbec', 'Gelber Muskateller',\n",
       "       'Syrah-Petite Sirah', 'Jaen', 'Touriga Nacional Blend',\n",
       "       'Marsanne-Roussanne', 'Erbaluce', 'Verdejo-Viura',\n",
       "       'Tempranillo-Merlot', 'Austrian Red Blend',\n",
       "       'Cabernet Sauvignon-Cabernet Franc', 'Malvasia Nera',\n",
       "       'Syrah-Viognier', 'Carignan-Grenache', 'Kotsifali',\n",
       "       'Tinto del Pais', 'Narince', 'Syrah-Mourvèdre',\n",
       "       'Cabernet Sauvignon Grenache', 'Lambrusco Grasparossa', 'Muscatel',\n",
       "       'Palomino', 'Chancellor', 'Malvasia Bianca', 'Mourvèdre-Syrah',\n",
       "       'Aleatico', 'Tinta Francisca', 'Muscat Blanc', 'Negrette',\n",
       "       'Ansonica', 'Baco Noir', 'Tinta Roriz', 'Merlot-Cabernet Franc',\n",
       "       'Mataro', 'Nascetta', 'Syrah-Cabernet Sauvignon',\n",
       "       'Sangiovese-Cabernet Sauvignon', 'Traminette',\n",
       "       'Cabernet Franc-Lemberger', 'Marquette', 'Viognier-Gewürztraminer',\n",
       "       'País', 'Garnacha-Syrah', 'Pigato', 'Favorita', 'Verduzzo',\n",
       "       'Carcajolu', 'Marselan', 'Tamjanika', 'Tempranillo-Shiraz',\n",
       "       'Portuguese Rosé', 'Catarratto', 'Symphony', 'Paralleda',\n",
       "       'Cabernet', 'Cabernet Sauvignon-Tempranillo', 'Rkatsiteli',\n",
       "       'Papaskarasi', 'Azal', 'Loureiro-Arinto',\n",
       "       'Touriga Nacional-Cabernet Sauvignon', 'Nero di Troia',\n",
       "       'Tannat-Merlot', 'Refosco', 'Malvasia Istriana', 'Tinta Barroca',\n",
       "       'Malbec-Syrah', 'Garnacha-Cabernet', 'Malagousia', 'Yapincak',\n",
       "       'Pallagrello Nero', 'Tempranillo Blanco', 'Pansa Blanca',\n",
       "       'Tempranillo-Garnacha', 'Cabernet Franc-Cabernet Sauvignon',\n",
       "       'Malvasia-Viura', 'Sauvignon-Sémillon', 'Muskateller', 'Airen',\n",
       "       'Zierfandler-Rotgipfler', 'Chardonnay-Pinot Gris', 'Silvaner',\n",
       "       'Lambrusco Salamino', 'Touriga Franca', 'Kinali Yapincak',\n",
       "       'Cayuga', 'Chenin Blanc-Viognier', 'Chinuri', 'Zierfandler',\n",
       "       'Blauburgunder', 'Muskat Ottonel', 'Chardonnay-Semillon',\n",
       "       'Albarossa', 'Syrah-Merlot', 'Morillon', 'Tannat-Syrah',\n",
       "       'Abouriou', 'Mantonico', 'Verduzzo Friulano ', 'Aidani',\n",
       "       'Verdejo-Sauvignon Blanc', 'Braucol', 'Mtsvane', 'Hárslevelü',\n",
       "       'Trousseau Gris', 'Grenache-Mourvèdre', 'Syrah-Cabernet Franc',\n",
       "       'Piedirosso', 'Chardonnay-Pinot Blanc', 'Merlot-Syrah',\n",
       "       'Plavac Mali', 'Gragnano', 'Alvarelhão', 'Cabernet Franc-Malbec',\n",
       "       'Moscatel de Alejandría', 'Altesse', 'Brachetto',\n",
       "       'Muscat of Alexandria', 'Sauvignon Musqué', 'Teran', 'Bastardo',\n",
       "       'Robola', 'Corvina', 'Malbec Blend', 'Grechetto',\n",
       "       'Pallagrello Bianco', 'Valdiguié', 'Cabernet Moravia', 'Vignoles',\n",
       "       'Gaglioppo', 'Madeleine Angevine', 'Baga-Touriga Nacional',\n",
       "       'Vitovska', 'Garnacha-Tempranillo', 'Saperavi-Merlot',\n",
       "       'Gros Plant', 'Nielluciu', 'Picpoul', 'Alicante', 'Petit Courbu',\n",
       "       'Malbec-Petit Verdot', 'Cesanese', 'Picolit', 'Mavrokalavryta',\n",
       "       'Black Muscat', 'Mavrodaphne', 'Malbec-Cabernet', 'Bombino Bianco',\n",
       "       'Cabernet Franc-Merlot', 'Cerceal', 'Mauzac', 'Ruché', 'Rufete',\n",
       "       'Boğazkere', 'Schwartzriesling', 'Carignano', 'Manzoni',\n",
       "       'Trollinger', 'Çalkarası', 'Moscatel Roxo',\n",
       "       'Pinot Blanc-Pinot Noir', 'Sämling', 'Sauvignon Gris',\n",
       "       'Treixadura', 'Marsanne-Viognier', 'Carmenère-Cabernet Sauvignon',\n",
       "       'Grecanico', 'Monastrell-Syrah', 'Códega do Larinho',\n",
       "       'Shiraz-Malbec', 'Viognier-Grenache Blanc', 'Ryzlink Rýnský',\n",
       "       'Hondarrabi Zuri', 'Mavrud', 'Zibibbo', 'Syrah-Grenache-Viognier',\n",
       "       'Sirica', 'Verdeca', 'Cabernet-Syrah', 'Kadarka', 'Viura-Verdejo',\n",
       "       'Tinta del Pais', 'Sangiovese Cabernet', 'Avesso', 'Madeira Blend',\n",
       "       'Vidal', 'Susumaniello', 'Cabernet Franc-Carmenère', 'Posip',\n",
       "       'Trebbiano Spoletino', 'Rivaner', 'Dafni', 'Carineña', 'Maturana',\n",
       "       'Grolleau', 'Carmenère-Syrah', 'Moscadello', 'Xynisteri',\n",
       "       'Rabigato', 'Muscadelle', 'Apple', 'Gouveio', 'Frankovka',\n",
       "       'Tinta Amarela', \"Muscat d'Alexandrie\", 'Cabernet-Shiraz',\n",
       "       'Muskat', 'Gelber Traminer', 'Johannisberg Riesling', 'Viosinho',\n",
       "       'Merlot-Malbec', 'Roditis', 'Perricone', 'Alvarinho-Chardonnay',\n",
       "       'Romorantin', 'Feteasca Neagra', 'Karalahna', 'Macabeo-Chardonnay',\n",
       "       'Chardonnay-Riesling', 'Bovale', 'Touriga', 'Torontel',\n",
       "       'Karasakiz', 'Biancolella', 'Athiri', 'Pinotage-Merlot',\n",
       "       'Feteascǎ Regalǎ', 'Debit', 'Mission', 'Garnacha-Monastrell',\n",
       "       'Cabernet Sauvignon-Merlot-Shiraz', 'Merlot-Cabernet', 'Vilana',\n",
       "       'Ciliegiolo', 'Maria Gomes-Bical', 'Plyto', 'Kisi',\n",
       "       'Syrah-Tempranillo', 'Marawi', 'Viognier-Roussanne',\n",
       "       'Sauvignon Blanc-Verdejo', 'Souzao', 'Sideritis', 'Fer Servadou',\n",
       "       'Chardonnay Weissburgunder', 'Vermentino Nero', 'Tinta Fina',\n",
       "       'Tinta Madeira', 'Monica', 'Rara Neagra', 'Rolle', 'Blanc du Bois',\n",
       "       'Chasselas', 'Roussanne-Marsanne', 'Durif', 'Pugnitello',\n",
       "       'Gewürztraminer-Riesling', 'Cabernet Pfeffer', 'Listán Negro',\n",
       "       'Sciaccerellu', 'Edelzwicker', 'Poulsard', 'Timorasso', 'Chelois',\n",
       "       'Other', 'Tempranillo-Syrah', 'Sercial', 'Vranec',\n",
       "       'Merlot-Petite Verdot', 'Valvin Muscat', 'Freisa',\n",
       "       'Shiraz-Mourvèdre', 'Tinta Cao', 'Syrah-Bonarda', 'Diamond',\n",
       "       'Trebbiano di Lugana', 'Kekfrankos', 'Clairette', 'Ugni Blanc',\n",
       "       'Merlot-Shiraz', 'Grenache Noir', 'Roditis-Moschofilero', 'Gamza',\n",
       "       'Piquepoul Blanc', 'Sangiovese-Syrah', 'Tămâioasă Românească',\n",
       "       'Canaiolo', 'Muscat Blanc à Petits Grains', 'Silvaner-Traminer',\n",
       "       'Barbera-Nebbiolo', 'Pallagrello', 'Caprettone', 'Rieslaner',\n",
       "       'Morio Muskat', 'Tinta Negra Mole', 'Kangoun',\n",
       "       'Chardonnay-Albariño', 'Orangetraube', 'Terrantez',\n",
       "       'Shiraz-Tempranillo', 'Uvalino', 'Ramisco', 'Muscat Hamburg',\n",
       "       'Magliocco', 'Blauer Portugieser', 'Thrapsathiri', 'Mazuelo',\n",
       "       'Cercial', 'Biancale', 'Marzemino', 'Doña Blanca',\n",
       "       'Tinta del Toro', 'Incrocio Manzoni', 'Picapoll', 'Blauburger',\n",
       "       'Malagouzia-Chardonnay', 'Malvasia Fina', 'Pinot Blanc-Chardonnay',\n",
       "       'Greco Bianco', 'Sauvignonasse', 'Roussanne-Grenache Blanc',\n",
       "       'Grenache Gris', 'Pinot Noir-Syrah', 'Tinto Velasco', 'Meseguera',\n",
       "       'Malbec-Bonarda', 'Roviello', 'White Port',\n",
       "       'Sauvignon Blanc-Assyrtiko', 'Parraleta', 'St. Vincent', 'Nasco',\n",
       "       'Mandilaria', 'Tempranillo-Tannat', 'Folle Blanche', 'Zlahtina',\n",
       "       'Colorino', 'Malvar', 'Žilavka', 'Blatina', 'Albanello', 'Kuntra',\n",
       "       'Riesling-Chardonnay', 'Portuguiser', 'Verdosilla',\n",
       "       'Merlot-Grenache', 'Pignolo', 'Mavrotragano', 'Malvasia di Candia',\n",
       "       'Feteasca', 'Shiraz-Roussanne', 'Molinara', 'Früburgunder',\n",
       "       'Shiraz-Cabernet', 'Vidadillo', 'Verdil', 'Grenache-Shiraz',\n",
       "       'Malbec-Carménère', 'Vinhão', 'Viognier-Valdiguié', 'Siegerrebe',\n",
       "       'Vespaiolo', 'Moschofilero-Chardonnay', 'Malbec-Tempranillo',\n",
       "       'Cariñena-Garnacha', 'Muscadine', 'Babosa Negro'], dtype=object)"
      ]
     },
     "execution_count": 150,
     "metadata": {
      "tags": []
     },
     "output_type": "execute_result"
    }
   ],
   "source": [
    "# Checking for unique values of Variety column\n",
    "train1['variety'].unique()"
   ]
  },
  {
   "cell_type": "code",
   "execution_count": 151,
   "metadata": {
    "colab": {
     "base_uri": "https://localhost:8080/",
     "height": 118
    },
    "id": "dOTB4M-fFAjP",
    "outputId": "f1cd6fda-103f-451b-d909-59b5ebeef0ff"
   },
   "outputs": [
    {
     "data": {
      "text/plain": [
       "array(['Domaine de la Sanglière 2015 La Riviera Rosé (Côtes de Provence)',\n",
       "       'Louis Guntrum 2006 Niersteiner Bergkirche Kabinett Riesling (Rheinhessen)',\n",
       "       'Naggiar 2016 Estate Muscat Canelli (Sierra Foothills)', ...,\n",
       "       'Quinta do Vesuvio 2010 Pombal do Vesúvio Red (Douro)',\n",
       "       'Domaine Roger Champault 2014 Les Pierris  (Sancerre)',\n",
       "       'Noble Vines 2015 667 Pinot Noir (Monterey)'], dtype=object)"
      ]
     },
     "execution_count": 151,
     "metadata": {
      "tags": []
     },
     "output_type": "execute_result"
    }
   ],
   "source": [
    "# Checking for unique values of Title column\n",
    "train1['title'].unique()"
   ]
  },
  {
   "cell_type": "code",
   "execution_count": 152,
   "metadata": {
    "colab": {
     "base_uri": "https://localhost:8080/",
     "height": 67
    },
    "id": "zwta7q4VGJf-",
    "outputId": "7df2d941-84f4-4312-a687-462d762d0933"
   },
   "outputs": [
    {
     "data": {
      "text/plain": [
       "array(['Domaine de la Sanglière', 'Louis Guntrum', 'Naggiar', ...,\n",
       "       'Château Bonnin', 'Dixie Flyer Vineyards', 'Lucien Crochet'],\n",
       "      dtype=object)"
      ]
     },
     "execution_count": 152,
     "metadata": {
      "tags": []
     },
     "output_type": "execute_result"
    }
   ],
   "source": [
    "# Checking for unique values of Winery column\n",
    "train1['winery'].unique()"
   ]
  },
  {
   "cell_type": "code",
   "execution_count": 153,
   "metadata": {
    "id": "lybPqvQmFE7Y"
   },
   "outputs": [],
   "source": [
    "# As we see above, there are many unique values for columns: Province, Variety and Winery. \n",
    "# If we try to convert these into categorical variables, the model will become complicated with many variables.\n",
    "# Hence, we will drop these columns from our dataset\n",
    "train1.drop(['province','Id','variety','winery','title'],axis=1,inplace= True)\n",
    "public.drop(['province','Id','variety','winery','title'],axis=1,inplace= True)\n",
    "private.drop(['province','Id','variety','winery','title'],axis=1,inplace= True)"
   ]
  },
  {
   "cell_type": "code",
   "execution_count": 154,
   "metadata": {
    "colab": {
     "base_uri": "https://localhost:8080/",
     "height": 202
    },
    "id": "8wR1-1hAFxKx",
    "outputId": "d4dcf8b9-c1ab-45a7-8c29-3e5bbea2e85b"
   },
   "outputs": [
    {
     "name": "stdout",
     "output_type": "stream",
     "text": [
      "<class 'pandas.core.frame.DataFrame'>\n",
      "Int64Index: 83789 entries, 0 to 89969\n",
      "Data columns (total 4 columns):\n",
      " #   Column       Non-Null Count  Dtype  \n",
      "---  ------       --------------  -----  \n",
      " 0   country      83789 non-null  object \n",
      " 1   description  83789 non-null  object \n",
      " 2   points       83789 non-null  int64  \n",
      " 3   price        83789 non-null  float64\n",
      "dtypes: float64(1), int64(1), object(2)\n",
      "memory usage: 3.2+ MB\n"
     ]
    }
   ],
   "source": [
    "train1.info()"
   ]
  },
  {
   "cell_type": "code",
   "execution_count": 155,
   "metadata": {
    "colab": {
     "base_uri": "https://localhost:8080/",
     "height": 168
    },
    "id": "6rLl5b8PFz3c",
    "outputId": "4e7d999e-4315-48e2-9e78-211d65d5c9a2"
   },
   "outputs": [
    {
     "data": {
      "text/plain": [
       "array(['France', 'Germany', 'US', 'Spain', 'Italy', 'Chile',\n",
       "       'New Zealand', 'Moldova', 'Argentina', 'Portugal', 'Israel',\n",
       "       'Australia', 'Austria', 'Canada', 'Hungary', 'South Africa',\n",
       "       'Peru', 'Greece', 'Turkey', 'Romania', 'Mexico', 'Slovenia',\n",
       "       'Macedonia', 'Cyprus', 'Georgia', 'England', 'Lebanon', 'Uruguay',\n",
       "       'Bulgaria', 'Morocco', 'Ukraine', 'Croatia', 'Switzerland',\n",
       "       'Brazil', 'Serbia', 'Luxembourg', 'Slovakia', 'Czech Republic',\n",
       "       'India', 'Bosnia and Herzegovina', 'Armenia', 'China'],\n",
       "      dtype=object)"
      ]
     },
     "execution_count": 155,
     "metadata": {
      "tags": []
     },
     "output_type": "execute_result"
    }
   ],
   "source": [
    "# Checking for unique values of Country column\n",
    "train1['country'].unique()"
   ]
  },
  {
   "cell_type": "code",
   "execution_count": 156,
   "metadata": {
    "colab": {
     "base_uri": "https://localhost:8080/",
     "height": 134
    },
    "id": "tG4xkrtuYQQK",
    "outputId": "ae43b9db-dd2d-40ee-8047-1b47e78ca2e8"
   },
   "outputs": [
    {
     "data": {
      "text/plain": [
       "array(['Portugal', 'Argentina', 'US', 'Italy', 'Chile', 'Germany',\n",
       "       'Spain', 'France', 'Austria', 'New Zealand', 'South Africa',\n",
       "       'Morocco', 'Greece', 'Australia', 'Canada', 'Uruguay', 'Bulgaria',\n",
       "       'Croatia', 'Israel', 'Hungary', 'Turkey', 'Luxembourg', 'Mexico',\n",
       "       'Serbia', 'Moldova', 'Georgia', 'England', 'Romania', 'India',\n",
       "       'Slovenia', 'Lebanon', 'Brazil', 'Ukraine', 'Czech Republic',\n",
       "       'Switzerland', 'Cyprus'], dtype=object)"
      ]
     },
     "execution_count": 156,
     "metadata": {
      "tags": []
     },
     "output_type": "execute_result"
    }
   ],
   "source": [
    "public['country'].unique()"
   ]
  },
  {
   "cell_type": "code",
   "execution_count": 157,
   "metadata": {
    "colab": {
     "base_uri": "https://localhost:8080/",
     "height": 134
    },
    "id": "3C1OB5RIYbDb",
    "outputId": "497a3de9-bc50-4184-abc2-1b2650e9c3ef"
   },
   "outputs": [
    {
     "data": {
      "text/plain": [
       "array(['US', 'Argentina', 'France', 'New Zealand', 'Chile', 'Italy',\n",
       "       'Spain', 'Romania', 'Australia', 'Germany', 'Georgia', 'Portugal',\n",
       "       'Austria', 'Greece', 'South Africa', 'Israel', 'Canada', 'Hungary',\n",
       "       'Brazil', 'England', 'Bulgaria', 'Mexico', 'Uruguay', 'Croatia',\n",
       "       'Lebanon', 'Switzerland', 'Ukraine', 'Moldova', 'Turkey',\n",
       "       'Macedonia', 'Morocco', 'Peru', 'Slovenia', 'Cyprus', 'Armenia',\n",
       "       'India', 'Serbia'], dtype=object)"
      ]
     },
     "execution_count": 157,
     "metadata": {
      "tags": []
     },
     "output_type": "execute_result"
    }
   ],
   "source": [
    "private['country'].unique()"
   ]
  },
  {
   "cell_type": "code",
   "execution_count": 158,
   "metadata": {
    "id": "6i3ornbDZj5d"
   },
   "outputs": [],
   "source": [
    "# Since we observe that there multiple countries, we will divide them into continents.\n",
    "Europe = ['France','Germany','Spain', 'Italy','Moldova', 'Portugal', \n",
    "       'Austria', 'Hungary','Greece', 'Turkey', 'Romania', 'Slovenia',\n",
    "       'Macedonia', 'Cyprus', 'Georgia', 'England',\n",
    "       'Bulgaria', 'Ukraine', 'Croatia', 'Switzerland',\n",
    "       'Serbia', 'Luxembourg', 'Slovakia', 'Czech Republic',\n",
    "       'Bosnia and Herzegovina', 'Armenia']\n",
    "\n",
    "Asia = ['India','China','Israel','Japan','Lebanon','South Korea']\n",
    "\n",
    "Australia = ['Australia','New Zealand']\n",
    "\n",
    "NorthAmerica = ['Canada','US','Mexico']\n",
    "\n",
    "SouthAmerica = ['Uruguay','Chile','Brazil','Argentina']\n",
    "\n",
    "Africa = ['South Africa','Morocco']"
   ]
  },
  {
   "cell_type": "code",
   "execution_count": 159,
   "metadata": {
    "id": "O30zUPPjhWDx"
   },
   "outputs": [],
   "source": [
    "train1['continent'] = np.nan\n",
    "public['continent'] = np.nan\n",
    "private['continent'] = np.nan"
   ]
  },
  {
   "cell_type": "code",
   "execution_count": 160,
   "metadata": {
    "id": "DUHNcJ3icdfe"
   },
   "outputs": [],
   "source": [
    "# We will create a function for replacing country with continent\n",
    "def replace_country(df):\n",
    "\n",
    "  for x in range(len(df['country'])):\n",
    "    if df['country'].iloc[x] in Europe:\n",
    "      df['continent'].iloc[x] = 'Europe'\n",
    "    elif df['country'].iloc[x] in Asia:\n",
    "      df['continent'].iloc[x] = 'Asia'\n",
    "    elif df['country'].iloc[x] in Australia:\n",
    "      df['continent'].iloc[x] = 'Australia'\n",
    "    elif df['country'].iloc[x] in NorthAmerica:\n",
    "      df['continent'].iloc[x] = 'NorthAmerica'\n",
    "    elif df['country'].iloc[x] in SouthAmerica:\n",
    "      df['continent'].iloc[x] = 'SouthAmerica'\n",
    "    elif df['country'].iloc[x] in Africa:\n",
    "      df['continent'].iloc[x] = 'Africa'"
   ]
  },
  {
   "cell_type": "code",
   "execution_count": 161,
   "metadata": {
    "id": "71AdOnawdvOY"
   },
   "outputs": [],
   "source": [
    "replace_country(train1)\n",
    "replace_country(private)\n",
    "replace_country(public)"
   ]
  },
  {
   "cell_type": "code",
   "execution_count": 162,
   "metadata": {
    "colab": {
     "base_uri": "https://localhost:8080/",
     "height": 195
    },
    "id": "3lkV5RSqd3IF",
    "outputId": "eb459b12-1296-4646-908c-b4e327bf31b6"
   },
   "outputs": [
    {
     "data": {
      "text/html": [
       "<div>\n",
       "<style scoped>\n",
       "    .dataframe tbody tr th:only-of-type {\n",
       "        vertical-align: middle;\n",
       "    }\n",
       "\n",
       "    .dataframe tbody tr th {\n",
       "        vertical-align: top;\n",
       "    }\n",
       "\n",
       "    .dataframe thead th {\n",
       "        text-align: right;\n",
       "    }\n",
       "</style>\n",
       "<table border=\"1\" class=\"dataframe\">\n",
       "  <thead>\n",
       "    <tr style=\"text-align: right;\">\n",
       "      <th></th>\n",
       "      <th>country</th>\n",
       "      <th>description</th>\n",
       "      <th>points</th>\n",
       "      <th>price</th>\n",
       "      <th>continent</th>\n",
       "    </tr>\n",
       "  </thead>\n",
       "  <tbody>\n",
       "    <tr>\n",
       "      <th>0</th>\n",
       "      <td>France</td>\n",
       "      <td>A buoyant wine, this has delicious acidity and...</td>\n",
       "      <td>89</td>\n",
       "      <td>17.0</td>\n",
       "      <td>Europe</td>\n",
       "    </tr>\n",
       "    <tr>\n",
       "      <th>1</th>\n",
       "      <td>Germany</td>\n",
       "      <td>Despite weighing in at 12% alcohol, this seems...</td>\n",
       "      <td>86</td>\n",
       "      <td>20.0</td>\n",
       "      <td>Europe</td>\n",
       "    </tr>\n",
       "    <tr>\n",
       "      <th>2</th>\n",
       "      <td>US</td>\n",
       "      <td>Sweet, simple and fruity, this light-bodied wi...</td>\n",
       "      <td>84</td>\n",
       "      <td>23.0</td>\n",
       "      <td>NorthAmerica</td>\n",
       "    </tr>\n",
       "    <tr>\n",
       "      <th>3</th>\n",
       "      <td>US</td>\n",
       "      <td>Tastes like a sweet and sour sauce mixed into ...</td>\n",
       "      <td>84</td>\n",
       "      <td>19.0</td>\n",
       "      <td>NorthAmerica</td>\n",
       "    </tr>\n",
       "    <tr>\n",
       "      <th>4</th>\n",
       "      <td>Spain</td>\n",
       "      <td>As a one-liter package you get one-third more ...</td>\n",
       "      <td>86</td>\n",
       "      <td>9.0</td>\n",
       "      <td>Europe</td>\n",
       "    </tr>\n",
       "  </tbody>\n",
       "</table>\n",
       "</div>"
      ],
      "text/plain": [
       "   country  ...     continent\n",
       "0   France  ...        Europe\n",
       "1  Germany  ...        Europe\n",
       "2       US  ...  NorthAmerica\n",
       "3       US  ...  NorthAmerica\n",
       "4    Spain  ...        Europe\n",
       "\n",
       "[5 rows x 5 columns]"
      ]
     },
     "execution_count": 162,
     "metadata": {
      "tags": []
     },
     "output_type": "execute_result"
    }
   ],
   "source": [
    "train1.head()"
   ]
  },
  {
   "cell_type": "code",
   "execution_count": 163,
   "metadata": {
    "colab": {
     "base_uri": "https://localhost:8080/",
     "height": 195
    },
    "id": "G7CH-OKuh8PT",
    "outputId": "0f911fe7-598b-4173-857a-4f6c6cbbcec7"
   },
   "outputs": [
    {
     "data": {
      "text/html": [
       "<div>\n",
       "<style scoped>\n",
       "    .dataframe tbody tr th:only-of-type {\n",
       "        vertical-align: middle;\n",
       "    }\n",
       "\n",
       "    .dataframe tbody tr th {\n",
       "        vertical-align: top;\n",
       "    }\n",
       "\n",
       "    .dataframe thead th {\n",
       "        text-align: right;\n",
       "    }\n",
       "</style>\n",
       "<table border=\"1\" class=\"dataframe\">\n",
       "  <thead>\n",
       "    <tr style=\"text-align: right;\">\n",
       "      <th></th>\n",
       "      <th>country</th>\n",
       "      <th>description</th>\n",
       "      <th>points</th>\n",
       "      <th>price</th>\n",
       "      <th>continent</th>\n",
       "    </tr>\n",
       "  </thead>\n",
       "  <tbody>\n",
       "    <tr>\n",
       "      <th>0</th>\n",
       "      <td>Portugal</td>\n",
       "      <td>A lemon flavored wine that's crisp and fruity....</td>\n",
       "      <td>85</td>\n",
       "      <td>17.0</td>\n",
       "      <td>Europe</td>\n",
       "    </tr>\n",
       "    <tr>\n",
       "      <th>1</th>\n",
       "      <td>Argentina</td>\n",
       "      <td>Waves of berry aromas matched by oak-based van...</td>\n",
       "      <td>90</td>\n",
       "      <td>31.0</td>\n",
       "      <td>SouthAmerica</td>\n",
       "    </tr>\n",
       "    <tr>\n",
       "      <th>2</th>\n",
       "      <td>US</td>\n",
       "      <td>). Very good wine from a winery increasingly k...</td>\n",
       "      <td>92</td>\n",
       "      <td>47.0</td>\n",
       "      <td>NorthAmerica</td>\n",
       "    </tr>\n",
       "    <tr>\n",
       "      <th>3</th>\n",
       "      <td>Italy</td>\n",
       "      <td>Light gold in color, this opens with easy arom...</td>\n",
       "      <td>85</td>\n",
       "      <td>9.0</td>\n",
       "      <td>Europe</td>\n",
       "    </tr>\n",
       "    <tr>\n",
       "      <th>4</th>\n",
       "      <td>US</td>\n",
       "      <td>This wine has jazzy, jammy aromas and ripe bla...</td>\n",
       "      <td>91</td>\n",
       "      <td>40.0</td>\n",
       "      <td>NorthAmerica</td>\n",
       "    </tr>\n",
       "  </tbody>\n",
       "</table>\n",
       "</div>"
      ],
      "text/plain": [
       "     country  ...     continent\n",
       "0   Portugal  ...        Europe\n",
       "1  Argentina  ...  SouthAmerica\n",
       "2         US  ...  NorthAmerica\n",
       "3      Italy  ...        Europe\n",
       "4         US  ...  NorthAmerica\n",
       "\n",
       "[5 rows x 5 columns]"
      ]
     },
     "execution_count": 163,
     "metadata": {
      "tags": []
     },
     "output_type": "execute_result"
    }
   ],
   "source": [
    "public.head()"
   ]
  },
  {
   "cell_type": "code",
   "execution_count": 164,
   "metadata": {
    "colab": {
     "base_uri": "https://localhost:8080/",
     "height": 195
    },
    "id": "HbviZ17Bfkcs",
    "outputId": "3f99fbcf-04ed-4ee9-8177-7f83ba8fab5b"
   },
   "outputs": [
    {
     "data": {
      "text/html": [
       "<div>\n",
       "<style scoped>\n",
       "    .dataframe tbody tr th:only-of-type {\n",
       "        vertical-align: middle;\n",
       "    }\n",
       "\n",
       "    .dataframe tbody tr th {\n",
       "        vertical-align: top;\n",
       "    }\n",
       "\n",
       "    .dataframe thead th {\n",
       "        text-align: right;\n",
       "    }\n",
       "</style>\n",
       "<table border=\"1\" class=\"dataframe\">\n",
       "  <thead>\n",
       "    <tr style=\"text-align: right;\">\n",
       "      <th></th>\n",
       "      <th>country</th>\n",
       "      <th>description</th>\n",
       "      <th>points</th>\n",
       "      <th>price</th>\n",
       "      <th>continent</th>\n",
       "    </tr>\n",
       "  </thead>\n",
       "  <tbody>\n",
       "    <tr>\n",
       "      <th>0</th>\n",
       "      <td>US</td>\n",
       "      <td>The nose is broad and welcoming, with apple an...</td>\n",
       "      <td>87</td>\n",
       "      <td>30.0</td>\n",
       "      <td>NorthAmerica</td>\n",
       "    </tr>\n",
       "    <tr>\n",
       "      <th>2</th>\n",
       "      <td>US</td>\n",
       "      <td>Floral and herbal from the get-go, this medium...</td>\n",
       "      <td>91</td>\n",
       "      <td>23.0</td>\n",
       "      <td>NorthAmerica</td>\n",
       "    </tr>\n",
       "    <tr>\n",
       "      <th>4</th>\n",
       "      <td>Argentina</td>\n",
       "      <td>Quite spicy, with the Syrah element offering a...</td>\n",
       "      <td>91</td>\n",
       "      <td>38.0</td>\n",
       "      <td>SouthAmerica</td>\n",
       "    </tr>\n",
       "    <tr>\n",
       "      <th>5</th>\n",
       "      <td>US</td>\n",
       "      <td>Not to be confused with the winery's Vintner's...</td>\n",
       "      <td>89</td>\n",
       "      <td>39.0</td>\n",
       "      <td>NorthAmerica</td>\n",
       "    </tr>\n",
       "    <tr>\n",
       "      <th>6</th>\n",
       "      <td>France</td>\n",
       "      <td>From a producer in the Layon valley, this is a...</td>\n",
       "      <td>84</td>\n",
       "      <td>15.0</td>\n",
       "      <td>Europe</td>\n",
       "    </tr>\n",
       "  </tbody>\n",
       "</table>\n",
       "</div>"
      ],
      "text/plain": [
       "     country  ...     continent\n",
       "0         US  ...  NorthAmerica\n",
       "2         US  ...  NorthAmerica\n",
       "4  Argentina  ...  SouthAmerica\n",
       "5         US  ...  NorthAmerica\n",
       "6     France  ...        Europe\n",
       "\n",
       "[5 rows x 5 columns]"
      ]
     },
     "execution_count": 164,
     "metadata": {
      "tags": []
     },
     "output_type": "execute_result"
    }
   ],
   "source": [
    "private.head()"
   ]
  },
  {
   "cell_type": "code",
   "execution_count": 165,
   "metadata": {
    "id": "xnDnFTKbGZnt"
   },
   "outputs": [],
   "source": [
    "continent=pd.get_dummies(train1['continent'],columns='continent',prefix='continent')\n",
    "train1=pd.concat([train1, continent], axis=1)\n",
    "train1.drop(['continent'],axis=1,inplace= True)"
   ]
  },
  {
   "cell_type": "code",
   "execution_count": 166,
   "metadata": {
    "id": "U70ZMR65H1vL"
   },
   "outputs": [],
   "source": [
    "continent1=pd.get_dummies(public['continent'],columns='continent',prefix='continent')\n",
    "public=pd.concat([public, continent1], axis=1)\n",
    "public.drop(['continent'],axis=1,inplace= True)"
   ]
  },
  {
   "cell_type": "code",
   "execution_count": 167,
   "metadata": {
    "id": "PLmWa8NJJH6w"
   },
   "outputs": [],
   "source": [
    "continent2=pd.get_dummies(private['continent'],columns='continent',prefix='continent')\n",
    "private=pd.concat([private, continent2], axis=1)\n",
    "private.drop(['continent'],axis=1,inplace= True)"
   ]
  },
  {
   "cell_type": "markdown",
   "metadata": {
    "id": "Z-exsI0AYWms"
   },
   "source": [
    "## Task 1 \n",
    "### 1. Running Linear Regression Model with L2 (Ridge) Penalty"
   ]
  },
  {
   "cell_type": "code",
   "execution_count": null,
   "metadata": {
    "id": "wnMjAzcINmrz"
   },
   "outputs": [],
   "source": [
    "#Subsampling data\n",
    "#train2 = train1\n",
    "train2 = train1.sample(n=15000,random_state=0)"
   ]
  },
  {
   "cell_type": "code",
   "execution_count": null,
   "metadata": {
    "id": "CmJ1LBDVJ3ko"
   },
   "outputs": [],
   "source": [
    "X = train1.drop([\"description\",\"points\",\"country\"],axis=1)\n",
    "y = train1['points']"
   ]
  },
  {
   "cell_type": "code",
   "execution_count": null,
   "metadata": {
    "colab": {
     "base_uri": "https://localhost:8080/",
     "height": 402
    },
    "id": "ksFF84uJVmkL",
    "outputId": "d32fd55d-98f0-4f19-9c29-40a26c5ef57c"
   },
   "outputs": [
    {
     "data": {
      "text/html": [
       "<div>\n",
       "<style scoped>\n",
       "    .dataframe tbody tr th:only-of-type {\n",
       "        vertical-align: middle;\n",
       "    }\n",
       "\n",
       "    .dataframe tbody tr th {\n",
       "        vertical-align: top;\n",
       "    }\n",
       "\n",
       "    .dataframe thead th {\n",
       "        text-align: right;\n",
       "    }\n",
       "</style>\n",
       "<table border=\"1\" class=\"dataframe\">\n",
       "  <thead>\n",
       "    <tr style=\"text-align: right;\">\n",
       "      <th></th>\n",
       "      <th>price</th>\n",
       "      <th>continent_Africa</th>\n",
       "      <th>continent_Asia</th>\n",
       "      <th>continent_Australia</th>\n",
       "      <th>continent_Europe</th>\n",
       "      <th>continent_NorthAmerica</th>\n",
       "      <th>continent_SouthAmerica</th>\n",
       "    </tr>\n",
       "  </thead>\n",
       "  <tbody>\n",
       "    <tr>\n",
       "      <th>0</th>\n",
       "      <td>17.0</td>\n",
       "      <td>0</td>\n",
       "      <td>0</td>\n",
       "      <td>0</td>\n",
       "      <td>1</td>\n",
       "      <td>0</td>\n",
       "      <td>0</td>\n",
       "    </tr>\n",
       "    <tr>\n",
       "      <th>1</th>\n",
       "      <td>20.0</td>\n",
       "      <td>0</td>\n",
       "      <td>0</td>\n",
       "      <td>0</td>\n",
       "      <td>1</td>\n",
       "      <td>0</td>\n",
       "      <td>0</td>\n",
       "    </tr>\n",
       "    <tr>\n",
       "      <th>2</th>\n",
       "      <td>23.0</td>\n",
       "      <td>0</td>\n",
       "      <td>0</td>\n",
       "      <td>0</td>\n",
       "      <td>0</td>\n",
       "      <td>1</td>\n",
       "      <td>0</td>\n",
       "    </tr>\n",
       "    <tr>\n",
       "      <th>3</th>\n",
       "      <td>19.0</td>\n",
       "      <td>0</td>\n",
       "      <td>0</td>\n",
       "      <td>0</td>\n",
       "      <td>0</td>\n",
       "      <td>1</td>\n",
       "      <td>0</td>\n",
       "    </tr>\n",
       "    <tr>\n",
       "      <th>4</th>\n",
       "      <td>9.0</td>\n",
       "      <td>0</td>\n",
       "      <td>0</td>\n",
       "      <td>0</td>\n",
       "      <td>1</td>\n",
       "      <td>0</td>\n",
       "      <td>0</td>\n",
       "    </tr>\n",
       "    <tr>\n",
       "      <th>...</th>\n",
       "      <td>...</td>\n",
       "      <td>...</td>\n",
       "      <td>...</td>\n",
       "      <td>...</td>\n",
       "      <td>...</td>\n",
       "      <td>...</td>\n",
       "      <td>...</td>\n",
       "    </tr>\n",
       "    <tr>\n",
       "      <th>89965</th>\n",
       "      <td>15.0</td>\n",
       "      <td>0</td>\n",
       "      <td>0</td>\n",
       "      <td>0</td>\n",
       "      <td>1</td>\n",
       "      <td>0</td>\n",
       "      <td>0</td>\n",
       "    </tr>\n",
       "    <tr>\n",
       "      <th>89966</th>\n",
       "      <td>11.0</td>\n",
       "      <td>0</td>\n",
       "      <td>0</td>\n",
       "      <td>0</td>\n",
       "      <td>0</td>\n",
       "      <td>0</td>\n",
       "      <td>1</td>\n",
       "    </tr>\n",
       "    <tr>\n",
       "      <th>89967</th>\n",
       "      <td>28.0</td>\n",
       "      <td>0</td>\n",
       "      <td>0</td>\n",
       "      <td>0</td>\n",
       "      <td>1</td>\n",
       "      <td>0</td>\n",
       "      <td>0</td>\n",
       "    </tr>\n",
       "    <tr>\n",
       "      <th>89968</th>\n",
       "      <td>23.0</td>\n",
       "      <td>0</td>\n",
       "      <td>0</td>\n",
       "      <td>0</td>\n",
       "      <td>1</td>\n",
       "      <td>0</td>\n",
       "      <td>0</td>\n",
       "    </tr>\n",
       "    <tr>\n",
       "      <th>89969</th>\n",
       "      <td>12.0</td>\n",
       "      <td>0</td>\n",
       "      <td>0</td>\n",
       "      <td>0</td>\n",
       "      <td>0</td>\n",
       "      <td>1</td>\n",
       "      <td>0</td>\n",
       "    </tr>\n",
       "  </tbody>\n",
       "</table>\n",
       "<p>83789 rows × 7 columns</p>\n",
       "</div>"
      ],
      "text/plain": [
       "       price  continent_Africa  ...  continent_NorthAmerica  continent_SouthAmerica\n",
       "0       17.0                 0  ...                       0                       0\n",
       "1       20.0                 0  ...                       0                       0\n",
       "2       23.0                 0  ...                       1                       0\n",
       "3       19.0                 0  ...                       1                       0\n",
       "4        9.0                 0  ...                       0                       0\n",
       "...      ...               ...  ...                     ...                     ...\n",
       "89965   15.0                 0  ...                       0                       0\n",
       "89966   11.0                 0  ...                       0                       1\n",
       "89967   28.0                 0  ...                       0                       0\n",
       "89968   23.0                 0  ...                       0                       0\n",
       "89969   12.0                 0  ...                       1                       0\n",
       "\n",
       "[83789 rows x 7 columns]"
      ]
     },
     "execution_count": 98,
     "metadata": {
      "tags": []
     },
     "output_type": "execute_result"
    }
   ],
   "source": [
    "X"
   ]
  },
  {
   "cell_type": "code",
   "execution_count": null,
   "metadata": {
    "colab": {
     "base_uri": "https://localhost:8080/",
     "height": 218
    },
    "id": "Vi1ERxcMVmwp",
    "outputId": "5d75ddc1-0e92-43fa-aa8f-ea85e8627689"
   },
   "outputs": [
    {
     "data": {
      "text/plain": [
       "0        89\n",
       "1        86\n",
       "2        84\n",
       "3        84\n",
       "4        86\n",
       "         ..\n",
       "89965    90\n",
       "89966    84\n",
       "89967    89\n",
       "89968    88\n",
       "89969    86\n",
       "Name: points, Length: 83789, dtype: int64"
      ]
     },
     "execution_count": 99,
     "metadata": {
      "tags": []
     },
     "output_type": "execute_result"
    }
   ],
   "source": [
    "y"
   ]
  },
  {
   "cell_type": "code",
   "execution_count": null,
   "metadata": {
    "id": "UJkhfqO6XW2M"
   },
   "outputs": [],
   "source": [
    "from sklearn.preprocessing import MinMaxScaler\n",
    "from sklearn.preprocessing import StandardScaler\n",
    "from sklearn.model_selection import train_test_split\n",
    "\n",
    "X_train_org, X_test_org, y_train, y_test = train_test_split(X, y, random_state = 0)\n",
    "\n",
    "scaler = StandardScaler()\n",
    "X_train = scaler.fit_transform(X_train_org)\n",
    "X_test = scaler.transform(X_test_org)"
   ]
  },
  {
   "cell_type": "code",
   "execution_count": null,
   "metadata": {
    "id": "ynjkW7L-TrL5"
   },
   "outputs": [],
   "source": [
    "from sklearn.model_selection import GridSearchCV\n",
    "from  sklearn.linear_model import Ridge\n",
    "\n",
    "param_grid = {'alpha':[0.01, 0,0.1, 1, 10]}"
   ]
  },
  {
   "cell_type": "code",
   "execution_count": null,
   "metadata": {
    "colab": {
     "base_uri": "https://localhost:8080/",
     "height": 151
    },
    "id": "G32RkBYJKJul",
    "outputId": "af4fb7fc-8039-4d9f-a5c0-3bc1405bdb82"
   },
   "outputs": [
    {
     "data": {
      "text/plain": [
       "GridSearchCV(cv=10, error_score=nan,\n",
       "             estimator=Ridge(alpha=1.0, copy_X=True, fit_intercept=True,\n",
       "                             max_iter=None, normalize=False, random_state=None,\n",
       "                             solver='auto', tol=0.001),\n",
       "             iid='deprecated', n_jobs=None,\n",
       "             param_grid={'alpha': [0.01, 0, 0.1, 1, 10]},\n",
       "             pre_dispatch='2*n_jobs', refit=True, return_train_score=True,\n",
       "             scoring=None, verbose=0)"
      ]
     },
     "execution_count": 102,
     "metadata": {
      "tags": []
     },
     "output_type": "execute_result"
    }
   ],
   "source": [
    "Grid_Ridge = GridSearchCV(Ridge(),param_grid,cv=10,return_train_score=True)\n",
    "Grid_Ridge.fit(X_train,y_train)"
   ]
  },
  {
   "cell_type": "code",
   "execution_count": null,
   "metadata": {
    "colab": {
     "base_uri": "https://localhost:8080/",
     "height": 50
    },
    "id": "Q3Sfwls3Vl09",
    "outputId": "6bc71e37-ad02-48ba-ccb1-6e0a9b1c530f"
   },
   "outputs": [
    {
     "name": "stdout",
     "output_type": "stream",
     "text": [
      "Best Cross-Validation Score: 0.1721\n",
      "Best Paramater: {'alpha': 0.1}\n"
     ]
    }
   ],
   "source": [
    "# Finding out the best parameters for the model\n",
    "\n",
    "print(\"Best Cross-Validation Score: {:.4f}\".format(Grid_Ridge.best_score_))\n",
    "print('Best Paramater:',Grid_Ridge.best_params_)"
   ]
  },
  {
   "cell_type": "code",
   "execution_count": null,
   "metadata": {
    "colab": {
     "base_uri": "https://localhost:8080/",
     "height": 50
    },
    "id": "AIRWVqrwWq5Q",
    "outputId": "04002a0e-d16e-499c-8e64-0d115e3a9458"
   },
   "outputs": [
    {
     "name": "stdout",
     "output_type": "stream",
     "text": [
      "Best Training score: 0.1796\n",
      "Best Testing score: 0.1941\n"
     ]
    }
   ],
   "source": [
    "# Reporting the training and testing scores for the best model\n",
    "\n",
    "print(\"Best Training score: {:.4f}\".format(Grid_Ridge.score(X_train,y_train)))\n",
    "print(\"Best Testing score: {:.4f}\".format(Grid_Ridge.score(X_test,y_test)))"
   ]
  },
  {
   "cell_type": "markdown",
   "metadata": {
    "id": "UUnu-eUyjJLf"
   },
   "source": [
    "### 2. Creating Text based model"
   ]
  },
  {
   "cell_type": "code",
   "execution_count": null,
   "metadata": {
    "colab": {
     "base_uri": "https://localhost:8080/",
     "height": 302
    },
    "id": "vPFTRO3zjNFA",
    "outputId": "5bb5d1ce-886f-4c15-e037-8d2158f7b4de"
   },
   "outputs": [
    {
     "name": "stdout",
     "output_type": "stream",
     "text": [
      "<class 'pandas.core.frame.DataFrame'>\n",
      "Int64Index: 83789 entries, 0 to 89969\n",
      "Data columns (total 10 columns):\n",
      " #   Column                  Non-Null Count  Dtype  \n",
      "---  ------                  --------------  -----  \n",
      " 0   country                 83789 non-null  object \n",
      " 1   description             83789 non-null  object \n",
      " 2   points                  83789 non-null  int64  \n",
      " 3   price                   83789 non-null  float64\n",
      " 4   continent_Africa        83789 non-null  uint8  \n",
      " 5   continent_Asia          83789 non-null  uint8  \n",
      " 6   continent_Australia     83789 non-null  uint8  \n",
      " 7   continent_Europe        83789 non-null  uint8  \n",
      " 8   continent_NorthAmerica  83789 non-null  uint8  \n",
      " 9   continent_SouthAmerica  83789 non-null  uint8  \n",
      "dtypes: float64(1), int64(1), object(2), uint8(6)\n",
      "memory usage: 3.7+ MB\n"
     ]
    }
   ],
   "source": [
    "train1.info()"
   ]
  },
  {
   "cell_type": "code",
   "execution_count": null,
   "metadata": {
    "id": "xlqdd_-C7_81"
   },
   "outputs": [],
   "source": [
    "X1 = train1.sample(n=10000,random_state=0)"
   ]
  },
  {
   "cell_type": "code",
   "execution_count": null,
   "metadata": {
    "colab": {
     "base_uri": "https://localhost:8080/",
     "height": 570
    },
    "id": "HzRtLhVg8LO8",
    "outputId": "ef42f9fc-b3d0-438b-91c5-e02902fcaa1d"
   },
   "outputs": [
    {
     "data": {
      "text/html": [
       "<div>\n",
       "<style scoped>\n",
       "    .dataframe tbody tr th:only-of-type {\n",
       "        vertical-align: middle;\n",
       "    }\n",
       "\n",
       "    .dataframe tbody tr th {\n",
       "        vertical-align: top;\n",
       "    }\n",
       "\n",
       "    .dataframe thead th {\n",
       "        text-align: right;\n",
       "    }\n",
       "</style>\n",
       "<table border=\"1\" class=\"dataframe\">\n",
       "  <thead>\n",
       "    <tr style=\"text-align: right;\">\n",
       "      <th></th>\n",
       "      <th>country</th>\n",
       "      <th>description</th>\n",
       "      <th>points</th>\n",
       "      <th>price</th>\n",
       "      <th>continent_Africa</th>\n",
       "      <th>continent_Asia</th>\n",
       "      <th>continent_Australia</th>\n",
       "      <th>continent_Europe</th>\n",
       "      <th>continent_NorthAmerica</th>\n",
       "      <th>continent_SouthAmerica</th>\n",
       "    </tr>\n",
       "  </thead>\n",
       "  <tbody>\n",
       "    <tr>\n",
       "      <th>41700</th>\n",
       "      <td>US</td>\n",
       "      <td>Soft and still fairly tannic at the age of fou...</td>\n",
       "      <td>87</td>\n",
       "      <td>35.0</td>\n",
       "      <td>0</td>\n",
       "      <td>0</td>\n",
       "      <td>0</td>\n",
       "      <td>0</td>\n",
       "      <td>1</td>\n",
       "      <td>0</td>\n",
       "    </tr>\n",
       "    <tr>\n",
       "      <th>12763</th>\n",
       "      <td>New Zealand</td>\n",
       "      <td>A dark, savory style of Pinot Noir, with inten...</td>\n",
       "      <td>87</td>\n",
       "      <td>23.0</td>\n",
       "      <td>0</td>\n",
       "      <td>0</td>\n",
       "      <td>1</td>\n",
       "      <td>0</td>\n",
       "      <td>0</td>\n",
       "      <td>0</td>\n",
       "    </tr>\n",
       "    <tr>\n",
       "      <th>23454</th>\n",
       "      <td>Italy</td>\n",
       "      <td>Rich almost to the point of chunky; aromas of ...</td>\n",
       "      <td>93</td>\n",
       "      <td>70.0</td>\n",
       "      <td>0</td>\n",
       "      <td>0</td>\n",
       "      <td>0</td>\n",
       "      <td>1</td>\n",
       "      <td>0</td>\n",
       "      <td>0</td>\n",
       "    </tr>\n",
       "    <tr>\n",
       "      <th>83900</th>\n",
       "      <td>Germany</td>\n",
       "      <td>Smoky and savory with a touch of spring ramps ...</td>\n",
       "      <td>89</td>\n",
       "      <td>21.0</td>\n",
       "      <td>0</td>\n",
       "      <td>0</td>\n",
       "      <td>0</td>\n",
       "      <td>1</td>\n",
       "      <td>0</td>\n",
       "      <td>0</td>\n",
       "    </tr>\n",
       "    <tr>\n",
       "      <th>13184</th>\n",
       "      <td>US</td>\n",
       "      <td>This 100% varietal wine from this new winery o...</td>\n",
       "      <td>91</td>\n",
       "      <td>55.0</td>\n",
       "      <td>0</td>\n",
       "      <td>0</td>\n",
       "      <td>0</td>\n",
       "      <td>0</td>\n",
       "      <td>1</td>\n",
       "      <td>0</td>\n",
       "    </tr>\n",
       "    <tr>\n",
       "      <th>...</th>\n",
       "      <td>...</td>\n",
       "      <td>...</td>\n",
       "      <td>...</td>\n",
       "      <td>...</td>\n",
       "      <td>...</td>\n",
       "      <td>...</td>\n",
       "      <td>...</td>\n",
       "      <td>...</td>\n",
       "      <td>...</td>\n",
       "      <td>...</td>\n",
       "    </tr>\n",
       "    <tr>\n",
       "      <th>16784</th>\n",
       "      <td>Italy</td>\n",
       "      <td>This opens with aromas of rose petal, lychee a...</td>\n",
       "      <td>89</td>\n",
       "      <td>38.0</td>\n",
       "      <td>0</td>\n",
       "      <td>0</td>\n",
       "      <td>0</td>\n",
       "      <td>1</td>\n",
       "      <td>0</td>\n",
       "      <td>0</td>\n",
       "    </tr>\n",
       "    <tr>\n",
       "      <th>31086</th>\n",
       "      <td>US</td>\n",
       "      <td>The aromas of huckleberry, flowers and blueber...</td>\n",
       "      <td>89</td>\n",
       "      <td>40.0</td>\n",
       "      <td>0</td>\n",
       "      <td>0</td>\n",
       "      <td>0</td>\n",
       "      <td>0</td>\n",
       "      <td>1</td>\n",
       "      <td>0</td>\n",
       "    </tr>\n",
       "    <tr>\n",
       "      <th>5077</th>\n",
       "      <td>Italy</td>\n",
       "      <td>Aromas of French oak, coconut, exotic spice an...</td>\n",
       "      <td>89</td>\n",
       "      <td>50.0</td>\n",
       "      <td>0</td>\n",
       "      <td>0</td>\n",
       "      <td>0</td>\n",
       "      <td>1</td>\n",
       "      <td>0</td>\n",
       "      <td>0</td>\n",
       "    </tr>\n",
       "    <tr>\n",
       "      <th>44433</th>\n",
       "      <td>US</td>\n",
       "      <td>As fabulous as ever, this brilliant compendium...</td>\n",
       "      <td>95</td>\n",
       "      <td>35.0</td>\n",
       "      <td>0</td>\n",
       "      <td>0</td>\n",
       "      <td>0</td>\n",
       "      <td>0</td>\n",
       "      <td>1</td>\n",
       "      <td>0</td>\n",
       "    </tr>\n",
       "    <tr>\n",
       "      <th>20389</th>\n",
       "      <td>US</td>\n",
       "      <td>A crisp bouquet of orange zest marks the openi...</td>\n",
       "      <td>92</td>\n",
       "      <td>45.0</td>\n",
       "      <td>0</td>\n",
       "      <td>0</td>\n",
       "      <td>0</td>\n",
       "      <td>0</td>\n",
       "      <td>1</td>\n",
       "      <td>0</td>\n",
       "    </tr>\n",
       "  </tbody>\n",
       "</table>\n",
       "<p>10000 rows × 10 columns</p>\n",
       "</div>"
      ],
      "text/plain": [
       "           country  ... continent_SouthAmerica\n",
       "41700           US  ...                      0\n",
       "12763  New Zealand  ...                      0\n",
       "23454        Italy  ...                      0\n",
       "83900      Germany  ...                      0\n",
       "13184           US  ...                      0\n",
       "...            ...  ...                    ...\n",
       "16784        Italy  ...                      0\n",
       "31086           US  ...                      0\n",
       "5077         Italy  ...                      0\n",
       "44433           US  ...                      0\n",
       "20389           US  ...                      0\n",
       "\n",
       "[10000 rows x 10 columns]"
      ]
     },
     "execution_count": 107,
     "metadata": {
      "tags": []
     },
     "output_type": "execute_result"
    }
   ],
   "source": [
    "X1"
   ]
  },
  {
   "cell_type": "code",
   "execution_count": null,
   "metadata": {
    "id": "GNxLHQwdASf9"
   },
   "outputs": [],
   "source": [
    "y1 = X1['points']"
   ]
  },
  {
   "cell_type": "code",
   "execution_count": null,
   "metadata": {
    "colab": {
     "base_uri": "https://localhost:8080/",
     "height": 218
    },
    "id": "mtfeu7H1AZ92",
    "outputId": "d574a271-e06e-4ccd-93dd-a7842fd3b5cd"
   },
   "outputs": [
    {
     "data": {
      "text/plain": [
       "41700    87\n",
       "12763    87\n",
       "23454    93\n",
       "83900    89\n",
       "13184    91\n",
       "         ..\n",
       "16784    89\n",
       "31086    89\n",
       "5077     89\n",
       "44433    95\n",
       "20389    92\n",
       "Name: points, Length: 10000, dtype: int64"
      ]
     },
     "execution_count": 109,
     "metadata": {
      "tags": []
     },
     "output_type": "execute_result"
    }
   ],
   "source": [
    "y1"
   ]
  },
  {
   "cell_type": "code",
   "execution_count": null,
   "metadata": {
    "id": "c-rv7k4tAbZ0"
   },
   "outputs": [],
   "source": [
    "X1 = X1['description']"
   ]
  },
  {
   "cell_type": "code",
   "execution_count": null,
   "metadata": {
    "colab": {
     "base_uri": "https://localhost:8080/",
     "height": 218
    },
    "id": "Jv-hq2D-AfOJ",
    "outputId": "6cabfcd0-dba4-4027-99e9-f3cbd38f2559"
   },
   "outputs": [
    {
     "data": {
      "text/plain": [
       "41700    Soft and still fairly tannic at the age of fou...\n",
       "12763    A dark, savory style of Pinot Noir, with inten...\n",
       "23454    Rich almost to the point of chunky; aromas of ...\n",
       "83900    Smoky and savory with a touch of spring ramps ...\n",
       "13184    This 100% varietal wine from this new winery o...\n",
       "                               ...                        \n",
       "16784    This opens with aromas of rose petal, lychee a...\n",
       "31086    The aromas of huckleberry, flowers and blueber...\n",
       "5077     Aromas of French oak, coconut, exotic spice an...\n",
       "44433    As fabulous as ever, this brilliant compendium...\n",
       "20389    A crisp bouquet of orange zest marks the openi...\n",
       "Name: description, Length: 10000, dtype: object"
      ]
     },
     "execution_count": 111,
     "metadata": {
      "tags": []
     },
     "output_type": "execute_result"
    }
   ],
   "source": [
    "X1"
   ]
  },
  {
   "cell_type": "code",
   "execution_count": null,
   "metadata": {
    "id": "G3HS1JMY8L4S"
   },
   "outputs": [],
   "source": [
    "# Converting to lower case\n",
    "X1=X1.str.lower()"
   ]
  },
  {
   "cell_type": "code",
   "execution_count": null,
   "metadata": {
    "id": "j8rD0omq-rdW"
   },
   "outputs": [],
   "source": [
    "# Replacing period with space\n",
    "X1 = X1.str.replace(\"\\.\",\" \")"
   ]
  },
  {
   "cell_type": "code",
   "execution_count": null,
   "metadata": {
    "id": "dPPwSNf7-7PC"
   },
   "outputs": [],
   "source": [
    "# Removing extra spaces\n",
    "X1 = X1.apply(lambda x:re.sub('\\s+',' ',x))"
   ]
  },
  {
   "cell_type": "code",
   "execution_count": null,
   "metadata": {
    "colab": {
     "base_uri": "https://localhost:8080/",
     "height": 50
    },
    "id": "S-7XI66R_BhH",
    "outputId": "7fbf7ef2-f285-415d-d907-7909b420ee66"
   },
   "outputs": [
    {
     "name": "stdout",
     "output_type": "stream",
     "text": [
      "[nltk_data] Downloading package wordnet to /root/nltk_data...\n",
      "[nltk_data]   Package wordnet is already up-to-date!\n"
     ]
    }
   ],
   "source": [
    "# Lemmatization\n",
    "nltk.download('wordnet')\n",
    "from nltk.stem import WordNetLemmatizer \n",
    "lemmatizer = WordNetLemmatizer()\n",
    "nlp = spacy.load('en_core_web_sm')"
   ]
  },
  {
   "cell_type": "code",
   "execution_count": null,
   "metadata": {
    "id": "tJFtDrEw_TXh"
   },
   "outputs": [],
   "source": [
    "def lemmatization_function_spacy(text):\n",
    "  tokens = nlp(text)\n",
    "  lemm_tokens = [x.lemma_ for x in tokens]\n",
    "  return ' '.join(lemm_tokens)"
   ]
  },
  {
   "cell_type": "code",
   "execution_count": null,
   "metadata": {
    "id": "TKWFA3hN_ith"
   },
   "outputs": [],
   "source": [
    "X1 = X1.apply(lemmatization_function_spacy)"
   ]
  },
  {
   "cell_type": "code",
   "execution_count": null,
   "metadata": {
    "colab": {
     "base_uri": "https://localhost:8080/",
     "height": 218
    },
    "id": "61w0_lLO_lz7",
    "outputId": "d81c76fa-3fee-4d61-8b50-b5dcb5ab7388"
   },
   "outputs": [
    {
     "data": {
      "text/plain": [
       "41700    soft and still fairly tannic at the age of fou...\n",
       "12763    a dark , savory style of pinot noir , with int...\n",
       "23454    rich almost to the point of chunky ; aroma of ...\n",
       "83900    smoky and savory with a touch of spring ramps ...\n",
       "13184    this 100 % varietal wine from this new winery ...\n",
       "                               ...                        \n",
       "16784    this open with aroma of rose petal , lychee an...\n",
       "31086    the aroma of huckleberry , flower and blueberr...\n",
       "5077     aromas of french oak , coconut , exotic spice ...\n",
       "44433    as fabulous as ever , this brilliant compendiu...\n",
       "20389    a crisp bouquet of orange z mark the opening o...\n",
       "Name: description, Length: 10000, dtype: object"
      ]
     },
     "execution_count": 118,
     "metadata": {
      "tags": []
     },
     "output_type": "execute_result"
    }
   ],
   "source": [
    "X1"
   ]
  },
  {
   "cell_type": "code",
   "execution_count": null,
   "metadata": {
    "id": "JguNaOgRE6TH"
   },
   "outputs": [],
   "source": [
    "X_train,X_test,y_train,y_test = train_test_split(X1, y1, random_state=0)"
   ]
  },
  {
   "cell_type": "code",
   "execution_count": null,
   "metadata": {
    "id": "SJHKR88uBH5C"
   },
   "outputs": [],
   "source": [
    "# Running regression model in pipeline\n",
    "pipe = Pipeline([('count',CountVectorizer()),\n",
    "                     ('LR',Ridge(max_iter=10000))])\n",
    "\n",
    "param_grid = {'LR__alpha': [0.01,0, 0.1, 1, 10]}"
   ]
  },
  {
   "cell_type": "code",
   "execution_count": null,
   "metadata": {
    "id": "tXVUTd8gBlvv"
   },
   "outputs": [],
   "source": [
    "LR_CV = GridSearchCV(pipe, param_grid, cv=10,n_jobs=-1)"
   ]
  },
  {
   "cell_type": "code",
   "execution_count": null,
   "metadata": {
    "colab": {
     "base_uri": "https://localhost:8080/",
     "height": 34
    },
    "id": "OkYe2vBeEDw9",
    "outputId": "1159021e-3d70-484d-b350-b4b7c27bcec4"
   },
   "outputs": [
    {
     "name": "stdout",
     "output_type": "stream",
     "text": [
      "Best cross-validation score: 0.6153\n"
     ]
    }
   ],
   "source": [
    "LR_CV.fit(X_train, y_train)\n",
    "print(\"Best cross-validation score: {:.4f}\".format(LR_CV.best_score_))"
   ]
  },
  {
   "cell_type": "code",
   "execution_count": null,
   "metadata": {
    "colab": {
     "base_uri": "https://localhost:8080/",
     "height": 50
    },
    "id": "qwm2S3nNFRSo",
    "outputId": "3e2ece4a-fc00-4336-ca9c-7a4653eb0c3f"
   },
   "outputs": [
    {
     "name": "stdout",
     "output_type": "stream",
     "text": [
      "Train score: 0.81\n",
      "Test score: 0.6236\n"
     ]
    }
   ],
   "source": [
    "LR_CV.best_params_\n",
    "print(\"Train score: {:.2f}\".format(LR_CV.score(X_train, y_train)))\n",
    "print(\"Test score: {:.4f}\".format(LR_CV.score(X_test, y_test)))"
   ]
  },
  {
   "cell_type": "markdown",
   "metadata": {
    "id": "Wja7JB5wH8MD"
   },
   "source": [
    "### 3. Trying n-grams and using TFIDF"
   ]
  },
  {
   "cell_type": "code",
   "execution_count": null,
   "metadata": {
    "id": "S0tNIypeIBoV"
   },
   "outputs": [],
   "source": [
    "# Running regression model in pipeline with n-grams\n",
    "pipe = Pipeline([('count',CountVectorizer()),\n",
    "                     ('LR',Ridge(max_iter=10000))])\n",
    "\n",
    "param_grid = {'LR__alpha': [0.01,0, 0.1, 1, 10],\n",
    "              'count__ngram_range':[(1,1),(1,2),(2,2)]}"
   ]
  },
  {
   "cell_type": "code",
   "execution_count": null,
   "metadata": {
    "id": "nKGV-5JrIKGK"
   },
   "outputs": [],
   "source": [
    "LR_CV = GridSearchCV(pipe, param_grid, cv=5,n_jobs=-1)"
   ]
  },
  {
   "cell_type": "code",
   "execution_count": null,
   "metadata": {
    "colab": {
     "base_uri": "https://localhost:8080/",
     "height": 34
    },
    "id": "xBVlFeBYILtk",
    "outputId": "b50b6f11-b25b-4347-c815-2f92cbf712bd"
   },
   "outputs": [
    {
     "name": "stdout",
     "output_type": "stream",
     "text": [
      "Best cross-validation score: 0.6117\n"
     ]
    }
   ],
   "source": [
    "LR_CV.fit(X_train, y_train)\n",
    "print(\"Best cross-validation score: {:.4f}\".format(LR_CV.best_score_))"
   ]
  },
  {
   "cell_type": "code",
   "execution_count": null,
   "metadata": {
    "colab": {
     "base_uri": "https://localhost:8080/",
     "height": 50
    },
    "id": "A2I-aA6cINd5",
    "outputId": "7ea4deb5-91fe-4128-baea-d95090df0d06"
   },
   "outputs": [
    {
     "name": "stdout",
     "output_type": "stream",
     "text": [
      "Train score: 0.81\n",
      "Test score: 0.6236\n"
     ]
    }
   ],
   "source": [
    "LR_CV.best_params_\n",
    "print(\"Train score: {:.2f}\".format(LR_CV.score(X_train, y_train)))\n",
    "print(\"Test score: {:.4f}\".format(LR_CV.score(X_test, y_test)))"
   ]
  },
  {
   "cell_type": "code",
   "execution_count": null,
   "metadata": {
    "id": "4qF9bSijIgyb"
   },
   "outputs": [],
   "source": [
    "# We see that using n-grams hasn't improved the accuracy. Trying TFIDF vectorizer\n",
    "# Running regression model in pipeline with n-grams\n",
    "pipe = Pipeline([('tfidf',TfidfVectorizer()),\n",
    "                     ('LR',Ridge(max_iter=10000))])\n",
    "\n",
    "param_grid = {'LR__alpha': [0, 0.01, 0.1, 1, 10],\n",
    "              'tfidf__ngram_range':[(1,1),(1,2),(2,2)],\n",
    "              'tfidf__max_df':[0.1,0.5,0.75,0.95],\n",
    "              'tfidf__min_df':[1,2,5]}"
   ]
  },
  {
   "cell_type": "code",
   "execution_count": null,
   "metadata": {
    "id": "uaQZEPolI_oV"
   },
   "outputs": [],
   "source": [
    "LR_TV = GridSearchCV(pipe, param_grid, cv=5,n_jobs=-1)"
   ]
  },
  {
   "cell_type": "code",
   "execution_count": null,
   "metadata": {
    "colab": {
     "base_uri": "https://localhost:8080/",
     "height": 34
    },
    "id": "c3MDRVuXJHvf",
    "outputId": "7b0d1ac4-c33a-4516-a408-bf2a17ce4eaf"
   },
   "outputs": [
    {
     "name": "stdout",
     "output_type": "stream",
     "text": [
      "Best cross-validation score: 0.5944\n"
     ]
    }
   ],
   "source": [
    "LR_TV.fit(X_train, y_train)\n",
    "print(\"Best cross-validation score: {:.4f}\".format(LR_TV.best_score_))"
   ]
  },
  {
   "cell_type": "code",
   "execution_count": null,
   "metadata": {
    "colab": {
     "base_uri": "https://localhost:8080/",
     "height": 50
    },
    "id": "uJSPnJzEJKly",
    "outputId": "4dc81f86-9cf4-4cfb-8719-8c272356f585"
   },
   "outputs": [
    {
     "name": "stdout",
     "output_type": "stream",
     "text": [
      "Train score: 0.83\n",
      "Test score: 0.6152\n"
     ]
    }
   ],
   "source": [
    "LR_TV.best_params_\n",
    "print(\"Train score: {:.2f}\".format(LR_TV.score(X_train, y_train)))\n",
    "print(\"Test score: {:.4f}\".format(LR_TV.score(X_test, y_test)))"
   ]
  },
  {
   "cell_type": "markdown",
   "metadata": {
    "id": "dzsApX67LDVo"
   },
   "source": [
    "### 4. Combining the two models"
   ]
  },
  {
   "cell_type": "code",
   "execution_count": null,
   "metadata": {
    "colab": {
     "base_uri": "https://localhost:8080/",
     "height": 218
    },
    "id": "mLB0XxhXLFqy",
    "outputId": "25413c1b-5bd7-402c-d577-488c602a6492"
   },
   "outputs": [
    {
     "data": {
      "text/plain": [
       "41700    soft and still fairly tannic at the age of fou...\n",
       "12763    a dark , savory style of pinot noir , with int...\n",
       "23454    rich almost to the point of chunky ; aroma of ...\n",
       "83900    smoky and savory with a touch of spring ramps ...\n",
       "13184    this 100 % varietal wine from this new winery ...\n",
       "                               ...                        \n",
       "16784    this open with aroma of rose petal , lychee an...\n",
       "31086    the aroma of huckleberry , flower and blueberr...\n",
       "5077     aromas of french oak , coconut , exotic spice ...\n",
       "44433    as fabulous as ever , this brilliant compendiu...\n",
       "20389    a crisp bouquet of orange z mark the opening o...\n",
       "Name: description, Length: 10000, dtype: object"
      ]
     },
     "execution_count": 124,
     "metadata": {
      "tags": []
     },
     "output_type": "execute_result"
    }
   ],
   "source": [
    "X1"
   ]
  },
  {
   "cell_type": "code",
   "execution_count": null,
   "metadata": {
    "colab": {
     "base_uri": "https://localhost:8080/",
     "height": 302
    },
    "id": "1g3T26ZfT7qO",
    "outputId": "172de975-ccb4-4178-f9a4-4bb12cd00f2e"
   },
   "outputs": [
    {
     "name": "stdout",
     "output_type": "stream",
     "text": [
      "<class 'pandas.core.frame.DataFrame'>\n",
      "Int64Index: 83789 entries, 0 to 89969\n",
      "Data columns (total 10 columns):\n",
      " #   Column                  Non-Null Count  Dtype  \n",
      "---  ------                  --------------  -----  \n",
      " 0   country                 83789 non-null  object \n",
      " 1   description             83789 non-null  object \n",
      " 2   points                  83789 non-null  int64  \n",
      " 3   price                   83789 non-null  float64\n",
      " 4   continent_Africa        83789 non-null  uint8  \n",
      " 5   continent_Asia          83789 non-null  uint8  \n",
      " 6   continent_Australia     83789 non-null  uint8  \n",
      " 7   continent_Europe        83789 non-null  uint8  \n",
      " 8   continent_NorthAmerica  83789 non-null  uint8  \n",
      " 9   continent_SouthAmerica  83789 non-null  uint8  \n",
      "dtypes: float64(1), int64(1), object(2), uint8(6)\n",
      "memory usage: 3.7+ MB\n"
     ]
    }
   ],
   "source": [
    "train1.info()"
   ]
  },
  {
   "cell_type": "code",
   "execution_count": null,
   "metadata": {
    "id": "R5DTrTWOUI5w"
   },
   "outputs": [],
   "source": [
    "X2 = train1.sample(n=10000,random_state=0)"
   ]
  },
  {
   "cell_type": "code",
   "execution_count": null,
   "metadata": {
    "id": "9LRxfO7VVV2W"
   },
   "outputs": [],
   "source": [
    "y2 = X2['points']"
   ]
  },
  {
   "cell_type": "code",
   "execution_count": null,
   "metadata": {
    "colab": {
     "base_uri": "https://localhost:8080/",
     "height": 252
    },
    "id": "eRp_71TQUKoN",
    "outputId": "c27d7610-b5ff-496e-ae42-8f13389a4b3b"
   },
   "outputs": [
    {
     "name": "stdout",
     "output_type": "stream",
     "text": [
      "<class 'pandas.core.frame.DataFrame'>\n",
      "Int64Index: 10000 entries, 41700 to 20389\n",
      "Data columns (total 7 columns):\n",
      " #   Column                  Non-Null Count  Dtype  \n",
      "---  ------                  --------------  -----  \n",
      " 0   price                   10000 non-null  float64\n",
      " 1   continent_Africa        10000 non-null  uint8  \n",
      " 2   continent_Asia          10000 non-null  uint8  \n",
      " 3   continent_Australia     10000 non-null  uint8  \n",
      " 4   continent_Europe        10000 non-null  uint8  \n",
      " 5   continent_NorthAmerica  10000 non-null  uint8  \n",
      " 6   continent_SouthAmerica  10000 non-null  uint8  \n",
      "dtypes: float64(1), uint8(6)\n",
      "memory usage: 214.8 KB\n"
     ]
    }
   ],
   "source": [
    "X2.info()"
   ]
  },
  {
   "cell_type": "code",
   "execution_count": null,
   "metadata": {
    "colab": {
     "base_uri": "https://localhost:8080/",
     "height": 218
    },
    "id": "MNvWveiyVUk3",
    "outputId": "16b87a61-4e83-46c8-f5a7-d0bff495d008"
   },
   "outputs": [
    {
     "data": {
      "text/plain": [
       "41700    87\n",
       "12763    87\n",
       "23454    93\n",
       "83900    89\n",
       "13184    91\n",
       "         ..\n",
       "16784    89\n",
       "31086    89\n",
       "5077     89\n",
       "44433    95\n",
       "20389    92\n",
       "Name: points, Length: 10000, dtype: int64"
      ]
     },
     "execution_count": 141,
     "metadata": {
      "tags": []
     },
     "output_type": "execute_result"
    }
   ],
   "source": [
    "y2"
   ]
  },
  {
   "cell_type": "code",
   "execution_count": null,
   "metadata": {
    "id": "PfSUqRW7Ucfp"
   },
   "outputs": [],
   "source": [
    "X2 = X2.drop([\"description\",\"points\",\"country\"],axis=1)"
   ]
  },
  {
   "cell_type": "code",
   "execution_count": null,
   "metadata": {
    "colab": {
     "base_uri": "https://localhost:8080/",
     "height": 402
    },
    "id": "SS8Bj-oOW-LX",
    "outputId": "be1285bb-b62a-4fa4-bf1f-b12c4d857f11"
   },
   "outputs": [
    {
     "data": {
      "text/html": [
       "<div>\n",
       "<style scoped>\n",
       "    .dataframe tbody tr th:only-of-type {\n",
       "        vertical-align: middle;\n",
       "    }\n",
       "\n",
       "    .dataframe tbody tr th {\n",
       "        vertical-align: top;\n",
       "    }\n",
       "\n",
       "    .dataframe thead th {\n",
       "        text-align: right;\n",
       "    }\n",
       "</style>\n",
       "<table border=\"1\" class=\"dataframe\">\n",
       "  <thead>\n",
       "    <tr style=\"text-align: right;\">\n",
       "      <th></th>\n",
       "      <th>price</th>\n",
       "      <th>continent_Africa</th>\n",
       "      <th>continent_Asia</th>\n",
       "      <th>continent_Australia</th>\n",
       "      <th>continent_Europe</th>\n",
       "      <th>continent_NorthAmerica</th>\n",
       "      <th>continent_SouthAmerica</th>\n",
       "    </tr>\n",
       "  </thead>\n",
       "  <tbody>\n",
       "    <tr>\n",
       "      <th>41700</th>\n",
       "      <td>35.0</td>\n",
       "      <td>0</td>\n",
       "      <td>0</td>\n",
       "      <td>0</td>\n",
       "      <td>0</td>\n",
       "      <td>1</td>\n",
       "      <td>0</td>\n",
       "    </tr>\n",
       "    <tr>\n",
       "      <th>12763</th>\n",
       "      <td>23.0</td>\n",
       "      <td>0</td>\n",
       "      <td>0</td>\n",
       "      <td>1</td>\n",
       "      <td>0</td>\n",
       "      <td>0</td>\n",
       "      <td>0</td>\n",
       "    </tr>\n",
       "    <tr>\n",
       "      <th>23454</th>\n",
       "      <td>70.0</td>\n",
       "      <td>0</td>\n",
       "      <td>0</td>\n",
       "      <td>0</td>\n",
       "      <td>1</td>\n",
       "      <td>0</td>\n",
       "      <td>0</td>\n",
       "    </tr>\n",
       "    <tr>\n",
       "      <th>83900</th>\n",
       "      <td>21.0</td>\n",
       "      <td>0</td>\n",
       "      <td>0</td>\n",
       "      <td>0</td>\n",
       "      <td>1</td>\n",
       "      <td>0</td>\n",
       "      <td>0</td>\n",
       "    </tr>\n",
       "    <tr>\n",
       "      <th>13184</th>\n",
       "      <td>55.0</td>\n",
       "      <td>0</td>\n",
       "      <td>0</td>\n",
       "      <td>0</td>\n",
       "      <td>0</td>\n",
       "      <td>1</td>\n",
       "      <td>0</td>\n",
       "    </tr>\n",
       "    <tr>\n",
       "      <th>...</th>\n",
       "      <td>...</td>\n",
       "      <td>...</td>\n",
       "      <td>...</td>\n",
       "      <td>...</td>\n",
       "      <td>...</td>\n",
       "      <td>...</td>\n",
       "      <td>...</td>\n",
       "    </tr>\n",
       "    <tr>\n",
       "      <th>16784</th>\n",
       "      <td>38.0</td>\n",
       "      <td>0</td>\n",
       "      <td>0</td>\n",
       "      <td>0</td>\n",
       "      <td>1</td>\n",
       "      <td>0</td>\n",
       "      <td>0</td>\n",
       "    </tr>\n",
       "    <tr>\n",
       "      <th>31086</th>\n",
       "      <td>40.0</td>\n",
       "      <td>0</td>\n",
       "      <td>0</td>\n",
       "      <td>0</td>\n",
       "      <td>0</td>\n",
       "      <td>1</td>\n",
       "      <td>0</td>\n",
       "    </tr>\n",
       "    <tr>\n",
       "      <th>5077</th>\n",
       "      <td>50.0</td>\n",
       "      <td>0</td>\n",
       "      <td>0</td>\n",
       "      <td>0</td>\n",
       "      <td>1</td>\n",
       "      <td>0</td>\n",
       "      <td>0</td>\n",
       "    </tr>\n",
       "    <tr>\n",
       "      <th>44433</th>\n",
       "      <td>35.0</td>\n",
       "      <td>0</td>\n",
       "      <td>0</td>\n",
       "      <td>0</td>\n",
       "      <td>0</td>\n",
       "      <td>1</td>\n",
       "      <td>0</td>\n",
       "    </tr>\n",
       "    <tr>\n",
       "      <th>20389</th>\n",
       "      <td>45.0</td>\n",
       "      <td>0</td>\n",
       "      <td>0</td>\n",
       "      <td>0</td>\n",
       "      <td>0</td>\n",
       "      <td>1</td>\n",
       "      <td>0</td>\n",
       "    </tr>\n",
       "  </tbody>\n",
       "</table>\n",
       "<p>10000 rows × 7 columns</p>\n",
       "</div>"
      ],
      "text/plain": [
       "       price  continent_Africa  ...  continent_NorthAmerica  continent_SouthAmerica\n",
       "41700   35.0                 0  ...                       1                       0\n",
       "12763   23.0                 0  ...                       0                       0\n",
       "23454   70.0                 0  ...                       0                       0\n",
       "83900   21.0                 0  ...                       0                       0\n",
       "13184   55.0                 0  ...                       1                       0\n",
       "...      ...               ...  ...                     ...                     ...\n",
       "16784   38.0                 0  ...                       0                       0\n",
       "31086   40.0                 0  ...                       1                       0\n",
       "5077    50.0                 0  ...                       0                       0\n",
       "44433   35.0                 0  ...                       1                       0\n",
       "20389   45.0                 0  ...                       1                       0\n",
       "\n",
       "[10000 rows x 7 columns]"
      ]
     },
     "execution_count": 149,
     "metadata": {
      "tags": []
     },
     "output_type": "execute_result"
    }
   ],
   "source": [
    "X2"
   ]
  },
  {
   "cell_type": "code",
   "execution_count": null,
   "metadata": {
    "colab": {
     "base_uri": "https://localhost:8080/",
     "height": 218
    },
    "id": "lGJN4wZzXAKl",
    "outputId": "9065e386-72f3-49fd-d52a-8bb1b836ca57"
   },
   "outputs": [
    {
     "data": {
      "text/plain": [
       "41700    87\n",
       "12763    87\n",
       "23454    93\n",
       "83900    89\n",
       "13184    91\n",
       "         ..\n",
       "16784    89\n",
       "31086    89\n",
       "5077     89\n",
       "44433    95\n",
       "20389    92\n",
       "Name: points, Length: 10000, dtype: int64"
      ]
     },
     "execution_count": 148,
     "metadata": {
      "tags": []
     },
     "output_type": "execute_result"
    }
   ],
   "source": [
    "y2"
   ]
  },
  {
   "cell_type": "code",
   "execution_count": null,
   "metadata": {
    "colab": {
     "base_uri": "https://localhost:8080/",
     "height": 218
    },
    "id": "m5wFLSsEXZ4P",
    "outputId": "f69b4e5b-e02e-493f-e27e-ded515e45f15"
   },
   "outputs": [
    {
     "data": {
      "text/plain": [
       "41700    soft and still fairly tannic at the age of fou...\n",
       "12763    a dark , savory style of pinot noir , with int...\n",
       "23454    rich almost to the point of chunky ; aroma of ...\n",
       "83900    smoky and savory with a touch of spring ramps ...\n",
       "13184    this 100 % varietal wine from this new winery ...\n",
       "                               ...                        \n",
       "16784    this open with aroma of rose petal , lychee an...\n",
       "31086    the aroma of huckleberry , flower and blueberr...\n",
       "5077     aromas of french oak , coconut , exotic spice ...\n",
       "44433    as fabulous as ever , this brilliant compendiu...\n",
       "20389    a crisp bouquet of orange z mark the opening o...\n",
       "Name: description, Length: 10000, dtype: object"
      ]
     },
     "execution_count": 150,
     "metadata": {
      "tags": []
     },
     "output_type": "execute_result"
    }
   ],
   "source": [
    "X1"
   ]
  },
  {
   "cell_type": "code",
   "execution_count": null,
   "metadata": {
    "id": "wGLoZrXfNwSd"
   },
   "outputs": [],
   "source": [
    "CV = CountVectorizer()\n",
    "X_matrix = CV.fit_transform(X1)"
   ]
  },
  {
   "cell_type": "code",
   "execution_count": null,
   "metadata": {
    "colab": {
     "base_uri": "https://localhost:8080/",
     "height": 50
    },
    "id": "4AOJdZxsOmyN",
    "outputId": "a082fe35-620b-4448-b9e4-2da9b67c0437"
   },
   "outputs": [
    {
     "data": {
      "text/plain": [
       "<10000x9882 sparse matrix of type '<class 'numpy.int64'>'\n",
       "\twith 343880 stored elements in Compressed Sparse Row format>"
      ]
     },
     "execution_count": 153,
     "metadata": {
      "tags": []
     },
     "output_type": "execute_result"
    }
   ],
   "source": [
    "X_matrix"
   ]
  },
  {
   "cell_type": "code",
   "execution_count": null,
   "metadata": {
    "id": "4FfHtLQiOod5"
   },
   "outputs": [],
   "source": [
    "from scipy.sparse import hstack\n",
    "X_data = hstack([X_matrix,X2])"
   ]
  },
  {
   "cell_type": "code",
   "execution_count": null,
   "metadata": {
    "colab": {
     "base_uri": "https://localhost:8080/",
     "height": 50
    },
    "id": "X5gIL6OeYJ7W",
    "outputId": "5e98a887-605e-4324-cf6e-d3a19d88b7e0"
   },
   "outputs": [
    {
     "data": {
      "text/plain": [
       "<10000x9889 sparse matrix of type '<class 'numpy.float64'>'\n",
       "\twith 363877 stored elements in COOrdinate format>"
      ]
     },
     "execution_count": 155,
     "metadata": {
      "tags": []
     },
     "output_type": "execute_result"
    }
   ],
   "source": [
    "X_data"
   ]
  },
  {
   "cell_type": "code",
   "execution_count": null,
   "metadata": {
    "id": "-6M4hUVWYKyL"
   },
   "outputs": [],
   "source": [
    "# Splitting data into train and test\n",
    "X_train, X_test, y_train, y_test = train_test_split(X_data, y2, random_state = 0)"
   ]
  },
  {
   "cell_type": "code",
   "execution_count": null,
   "metadata": {
    "colab": {
     "base_uri": "https://localhost:8080/",
     "height": 151
    },
    "id": "NUHcOXZ8YbI1",
    "outputId": "5f0f4028-f603-4a3b-f1de-607188b456f7"
   },
   "outputs": [
    {
     "data": {
      "text/plain": [
       "GridSearchCV(cv=5, error_score=nan,\n",
       "             estimator=Ridge(alpha=1.0, copy_X=True, fit_intercept=True,\n",
       "                             max_iter=None, normalize=False, random_state=None,\n",
       "                             solver='auto', tol=0.001),\n",
       "             iid='deprecated', n_jobs=None,\n",
       "             param_grid={'alpha': [0.01, 0.1, 0, 1, 10]},\n",
       "             pre_dispatch='2*n_jobs', refit=True, return_train_score=True,\n",
       "             scoring=None, verbose=0)"
      ]
     },
     "execution_count": 159,
     "metadata": {
      "tags": []
     },
     "output_type": "execute_result"
    }
   ],
   "source": [
    "# Running regression model\n",
    "params ={'alpha':[0.01, 0.1, 0, 1,10]}\n",
    "model = GridSearchCV(Ridge(), params, cv=5, return_train_score = True)\n",
    "model.fit(X_train, y_train)"
   ]
  },
  {
   "cell_type": "code",
   "execution_count": null,
   "metadata": {
    "colab": {
     "base_uri": "https://localhost:8080/",
     "height": 84
    },
    "id": "HHn8NSfXZOLt",
    "outputId": "19160189-42c3-42f7-dffc-db3ceb59d189"
   },
   "outputs": [
    {
     "name": "stdout",
     "output_type": "stream",
     "text": [
      "Best Cross-validation score: 0.64\n",
      "Best parameters:  {'alpha': 10}\n",
      "Train Score: 0.8284 \n",
      "Test Score: 0.6613 \n"
     ]
    }
   ],
   "source": [
    "print(\"Best Cross-validation score: {:.2f}\".format(model.best_score_))\n",
    "print('Best parameters: ', model.best_params_)\n",
    "print(\"Train Score: {:.4f} \".format(model.score(X_train,y_train)))\n",
    "print(\"Test Score: {:.4f} \".format(model.score(X_test,y_test)))"
   ]
  },
  {
   "cell_type": "markdown",
   "metadata": {
    "id": "XhigGY98ZLIP"
   },
   "source": [
    "## Task 2 - Pre Trained Word Vectors"
   ]
  },
  {
   "cell_type": "code",
   "execution_count": 4,
   "metadata": {},
   "outputs": [],
   "source": [
    "from gensim.models import Word2Vec, KeyedVectors"
   ]
  },
  {
   "cell_type": "code",
   "execution_count": 3,
   "metadata": {},
   "outputs": [],
   "source": [
    "train1 = pd.read_csv('train.csv')"
   ]
  },
  {
   "cell_type": "code",
   "execution_count": 5,
   "metadata": {},
   "outputs": [],
   "source": [
    "train2 = train1.sample(n=10000,random_state=0,replace=True)"
   ]
  },
  {
   "cell_type": "code",
   "execution_count": 7,
   "metadata": {},
   "outputs": [],
   "source": [
    "# Getting description column\n",
    "X3 = train2['description']"
   ]
  },
  {
   "cell_type": "code",
   "execution_count": 8,
   "metadata": {},
   "outputs": [],
   "source": [
    "# We will perform data cleaning in the steps below\n",
    "# Converting to lower case\n",
    "X3=X3.str.lower()"
   ]
  },
  {
   "cell_type": "code",
   "execution_count": 9,
   "metadata": {},
   "outputs": [],
   "source": [
    "# Replacing period with space\n",
    "X3 = X3.str.replace(\"\\.\",\" \")"
   ]
  },
  {
   "cell_type": "code",
   "execution_count": 10,
   "metadata": {},
   "outputs": [],
   "source": [
    "# Removing extra spaces\n",
    "X3 = X3.apply(lambda x:re.sub('\\s+',' ',x))"
   ]
  },
  {
   "cell_type": "code",
   "execution_count": 13,
   "metadata": {},
   "outputs": [
    {
     "name": "stderr",
     "output_type": "stream",
     "text": [
      "[nltk_data] Downloading package wordnet to\n",
      "[nltk_data]     C:\\Users\\rajas\\AppData\\Roaming\\nltk_data...\n",
      "[nltk_data]   Package wordnet is already up-to-date!\n"
     ]
    }
   ],
   "source": [
    "# Lemmatization\n",
    "nltk.download('wordnet')\n",
    "from nltk.stem import WordNetLemmatizer \n",
    "lemmatizer = WordNetLemmatizer()"
   ]
  },
  {
   "cell_type": "code",
   "execution_count": 14,
   "metadata": {},
   "outputs": [],
   "source": [
    "def lemmatization_function(text):\n",
    "  tokens = text.split()\n",
    "  lemm_tokens = [lemmatizer.lemmatize(x) for x in tokens]\n",
    "  return ' '.join(lemm_tokens)"
   ]
  },
  {
   "cell_type": "code",
   "execution_count": 15,
   "metadata": {},
   "outputs": [],
   "source": [
    "X3 = X3.apply(lemmatization_function)"
   ]
  },
  {
   "cell_type": "code",
   "execution_count": 23,
   "metadata": {},
   "outputs": [],
   "source": [
    "y3 = train2['points']"
   ]
  },
  {
   "cell_type": "code",
   "execution_count": 16,
   "metadata": {},
   "outputs": [],
   "source": [
    "# Using word tokenizer to convert sentences into word tokens\n",
    "sentences=[]\n",
    "sentences = [nltk.word_tokenize(sentence) for sentence in X3]"
   ]
  },
  {
   "cell_type": "code",
   "execution_count": 18,
   "metadata": {},
   "outputs": [
    {
     "name": "stderr",
     "output_type": "stream",
     "text": [
      "[nltk_data] Downloading package stopwords to\n",
      "[nltk_data]     C:\\Users\\rajas\\AppData\\Roaming\\nltk_data...\n",
      "[nltk_data]   Package stopwords is already up-to-date!\n"
     ]
    }
   ],
   "source": [
    "# Removing stop words\n",
    "from nltk.corpus import stopwords\n",
    "nltk.download('stopwords')\n",
    "\n",
    "for i in range(len(sentences)):\n",
    "    sentences[i] = [word for word in sentences[i] if word not in stopwords.words('english')]"
   ]
  },
  {
   "cell_type": "code",
   "execution_count": 21,
   "metadata": {},
   "outputs": [],
   "source": [
    "Word2VecModel = KeyedVectors.load_word2vec_format('GoogleNews-vectors-negative300.bin',binary=True, limit =100000)"
   ]
  },
  {
   "cell_type": "code",
   "execution_count": 25,
   "metadata": {},
   "outputs": [],
   "source": [
    "# Creating a function for calculating avergae value of word vector for a sentence\n",
    "def AvgSentenceWeight(sentence):\n",
    "  sentence = [word for word in sentence if word in Word2VecModel.wv.vocab]\n",
    "  return np.mean(Word2VecModel[sentence],axis=0)"
   ]
  },
  {
   "cell_type": "code",
   "execution_count": 26,
   "metadata": {},
   "outputs": [
    {
     "name": "stderr",
     "output_type": "stream",
     "text": [
      "c:\\python\\python37\\lib\\site-packages\\ipykernel_launcher.py:3: DeprecationWarning: Call to deprecated `wv` (Attribute will be removed in 4.0.0, use self instead).\n",
      "  This is separate from the ipykernel package so we can avoid doing imports until\n"
     ]
    }
   ],
   "source": [
    "X3 = X3.apply(AvgSentenceWeight)"
   ]
  },
  {
   "cell_type": "code",
   "execution_count": 27,
   "metadata": {},
   "outputs": [],
   "source": [
    "X3 = list(X3)"
   ]
  },
  {
   "cell_type": "code",
   "execution_count": 28,
   "metadata": {},
   "outputs": [],
   "source": [
    "from sklearn.preprocessing import MinMaxScaler\n",
    "from sklearn.preprocessing import StandardScaler\n",
    "from sklearn.model_selection import train_test_split\n",
    "import warnings\n",
    "warnings.filterwarnings('ignore')\n",
    "\n",
    "X_train, X_test, y_train, y_test = train_test_split(X3, y3, random_state = 0)\n",
    "\n",
    "scaler = StandardScaler()\n",
    "X_train = scaler.fit_transform(X_train)\n",
    "X_test = scaler.transform(X_test)"
   ]
  },
  {
   "cell_type": "code",
   "execution_count": 29,
   "metadata": {},
   "outputs": [],
   "source": [
    "from sklearn.model_selection import GridSearchCV\n",
    "from  sklearn.linear_model import Ridge\n",
    "\n",
    "param_grid = {'alpha':[0.01, 0,0.1, 1, 10]}"
   ]
  },
  {
   "cell_type": "code",
   "execution_count": 30,
   "metadata": {},
   "outputs": [
    {
     "data": {
      "text/plain": [
       "GridSearchCV(cv=10, estimator=Ridge(),\n",
       "             param_grid={'alpha': [0.01, 0, 0.1, 1, 10]},\n",
       "             return_train_score=True)"
      ]
     },
     "execution_count": 30,
     "metadata": {},
     "output_type": "execute_result"
    }
   ],
   "source": [
    "Grid_Ridge = GridSearchCV(Ridge(),param_grid,cv=10,return_train_score=True)\n",
    "Grid_Ridge.fit(X_train,y_train)"
   ]
  },
  {
   "cell_type": "code",
   "execution_count": 31,
   "metadata": {},
   "outputs": [
    {
     "name": "stdout",
     "output_type": "stream",
     "text": [
      "Best Cross-Validation Score: 0.1890\n",
      "Best Paramater: {'alpha': 10}\n"
     ]
    }
   ],
   "source": [
    "# Finding out the best parameters for the model\n",
    "\n",
    "print(\"Best Cross-Validation Score: {:.4f}\".format(Grid_Ridge.best_score_))\n",
    "print('Best Paramater:',Grid_Ridge.best_params_)"
   ]
  },
  {
   "cell_type": "code",
   "execution_count": 32,
   "metadata": {},
   "outputs": [
    {
     "name": "stdout",
     "output_type": "stream",
     "text": [
      "Best Training score: 0.1975\n",
      "Best Testing score: 0.1807\n"
     ]
    }
   ],
   "source": [
    "# Reporting the training and testing scores for the best model\n",
    "\n",
    "print(\"Best Training score: {:.4f}\".format(Grid_Ridge.score(X_train,y_train)))\n",
    "print(\"Best Testing score: {:.4f}\".format(Grid_Ridge.score(X_test,y_test)))"
   ]
  },
  {
   "cell_type": "markdown",
   "metadata": {
    "id": "Oj91gyk8enzd"
   },
   "source": [
    "## Task 3 - Custom Embeddings"
   ]
  },
  {
   "cell_type": "code",
   "execution_count": 168,
   "metadata": {
    "colab": {
     "base_uri": "https://localhost:8080/",
     "height": 302
    },
    "id": "53OSyGbKeo0H",
    "outputId": "9bce64a4-6de7-411d-d9a5-8ef0087b5c7b"
   },
   "outputs": [
    {
     "name": "stdout",
     "output_type": "stream",
     "text": [
      "<class 'pandas.core.frame.DataFrame'>\n",
      "Int64Index: 83789 entries, 0 to 89969\n",
      "Data columns (total 10 columns):\n",
      " #   Column                  Non-Null Count  Dtype  \n",
      "---  ------                  --------------  -----  \n",
      " 0   country                 83789 non-null  object \n",
      " 1   description             83789 non-null  object \n",
      " 2   points                  83789 non-null  int64  \n",
      " 3   price                   83789 non-null  float64\n",
      " 4   continent_Africa        83789 non-null  uint8  \n",
      " 5   continent_Asia          83789 non-null  uint8  \n",
      " 6   continent_Australia     83789 non-null  uint8  \n",
      " 7   continent_Europe        83789 non-null  uint8  \n",
      " 8   continent_NorthAmerica  83789 non-null  uint8  \n",
      " 9   continent_SouthAmerica  83789 non-null  uint8  \n",
      "dtypes: float64(1), int64(1), object(2), uint8(6)\n",
      "memory usage: 3.7+ MB\n"
     ]
    }
   ],
   "source": [
    "# Checking original cleaned dataset\n",
    "train1.info()"
   ]
  },
  {
   "cell_type": "code",
   "execution_count": 169,
   "metadata": {
    "id": "C4hx2pEoPzoi"
   },
   "outputs": [],
   "source": [
    "# Sampling 15000 observations\n",
    "train2 = train1.sample(n=15000,random_state=0)"
   ]
  },
  {
   "cell_type": "code",
   "execution_count": 170,
   "metadata": {
    "colab": {
     "base_uri": "https://localhost:8080/",
     "height": 302
    },
    "id": "KnzjqHJiQHHe",
    "outputId": "25105f56-3c2c-4b68-b072-5b9d5a8d083c"
   },
   "outputs": [
    {
     "name": "stdout",
     "output_type": "stream",
     "text": [
      "<class 'pandas.core.frame.DataFrame'>\n",
      "Int64Index: 15000 entries, 41700 to 1694\n",
      "Data columns (total 10 columns):\n",
      " #   Column                  Non-Null Count  Dtype  \n",
      "---  ------                  --------------  -----  \n",
      " 0   country                 15000 non-null  object \n",
      " 1   description             15000 non-null  object \n",
      " 2   points                  15000 non-null  int64  \n",
      " 3   price                   15000 non-null  float64\n",
      " 4   continent_Africa        15000 non-null  uint8  \n",
      " 5   continent_Asia          15000 non-null  uint8  \n",
      " 6   continent_Australia     15000 non-null  uint8  \n",
      " 7   continent_Europe        15000 non-null  uint8  \n",
      " 8   continent_NorthAmerica  15000 non-null  uint8  \n",
      " 9   continent_SouthAmerica  15000 non-null  uint8  \n",
      "dtypes: float64(1), int64(1), object(2), uint8(6)\n",
      "memory usage: 673.8+ KB\n"
     ]
    }
   ],
   "source": [
    "train2.info()"
   ]
  },
  {
   "cell_type": "code",
   "execution_count": 171,
   "metadata": {
    "colab": {
     "base_uri": "https://localhost:8080/",
     "height": 101
    },
    "id": "14WfJ8V8QIav",
    "outputId": "b847ac0d-564c-45c7-8183-add85e492791"
   },
   "outputs": [
    {
     "name": "stdout",
     "output_type": "stream",
     "text": [
      "[nltk_data] Downloading package stopwords to /root/nltk_data...\n",
      "[nltk_data]   Package stopwords is already up-to-date!\n",
      "[nltk_data] Downloading package punkt to /root/nltk_data...\n",
      "[nltk_data]   Package punkt is already up-to-date!\n"
     ]
    },
    {
     "data": {
      "text/plain": [
       "True"
      ]
     },
     "execution_count": 171,
     "metadata": {
      "tags": []
     },
     "output_type": "execute_result"
    }
   ],
   "source": [
    "import nltk\n",
    "import re\n",
    "from gensim.models import Word2Vec\n",
    "from nltk.corpus import stopwords\n",
    "nltk.download('stopwords')\n",
    "nltk.download('punkt')"
   ]
  },
  {
   "cell_type": "code",
   "execution_count": 172,
   "metadata": {
    "colab": {
     "base_uri": "https://localhost:8080/",
     "height": 118
    },
    "id": "2qf7Fj035YXO",
    "outputId": "28b218a5-add2-4a68-e2b6-e0c9bb31dcbe"
   },
   "outputs": [
    {
     "data": {
      "text/plain": [
       "41700    Soft and still fairly tannic at the age of fou...\n",
       "12763    A dark, savory style of Pinot Noir, with inten...\n",
       "23454    Rich almost to the point of chunky; aromas of ...\n",
       "83900    Smoky and savory with a touch of spring ramps ...\n",
       "13184    This 100% varietal wine from this new winery o...\n",
       "Name: description, dtype: object"
      ]
     },
     "execution_count": 172,
     "metadata": {
      "tags": []
     },
     "output_type": "execute_result"
    }
   ],
   "source": [
    "train2['description'].head()"
   ]
  },
  {
   "cell_type": "code",
   "execution_count": 173,
   "metadata": {
    "id": "7zNRdIii88Qg"
   },
   "outputs": [],
   "source": [
    "# Getting description column\n",
    "X3 = train2['description']"
   ]
  },
  {
   "cell_type": "code",
   "execution_count": 174,
   "metadata": {
    "id": "ky-6fMCA8gix"
   },
   "outputs": [],
   "source": [
    "# We will perform data cleaning in the steps below\n",
    "# Converting to lower case\n",
    "X3=X3.str.lower()"
   ]
  },
  {
   "cell_type": "code",
   "execution_count": 175,
   "metadata": {
    "id": "3QXZ6mFq8gpE"
   },
   "outputs": [],
   "source": [
    "# Replacing period with space\n",
    "X3 = X3.str.replace(\"\\.\",\" \")"
   ]
  },
  {
   "cell_type": "code",
   "execution_count": 176,
   "metadata": {
    "id": "B5L04PRY8gpF"
   },
   "outputs": [],
   "source": [
    "# Removing extra spaces\n",
    "X3 = X3.apply(lambda x:re.sub('\\s+',' ',x))"
   ]
  },
  {
   "cell_type": "code",
   "execution_count": 177,
   "metadata": {
    "colab": {
     "base_uri": "https://localhost:8080/",
     "height": 50
    },
    "id": "Or4ld55n8gpG",
    "outputId": "a205a182-5f33-4928-c92a-9345863ab869"
   },
   "outputs": [
    {
     "name": "stdout",
     "output_type": "stream",
     "text": [
      "[nltk_data] Downloading package wordnet to /root/nltk_data...\n",
      "[nltk_data]   Package wordnet is already up-to-date!\n"
     ]
    }
   ],
   "source": [
    "# Lemmatization\n",
    "nltk.download('wordnet')\n",
    "from nltk.stem import WordNetLemmatizer \n",
    "lemmatizer = WordNetLemmatizer()\n",
    "nlp = spacy.load('en_core_web_sm')"
   ]
  },
  {
   "cell_type": "code",
   "execution_count": 178,
   "metadata": {
    "id": "Yk0kZDFd8gpI"
   },
   "outputs": [],
   "source": [
    "def lemmatization_function_spacy(text):\n",
    "  tokens = nlp(text)\n",
    "  lemm_tokens = [x.lemma_ for x in tokens]\n",
    "  return ' '.join(lemm_tokens)"
   ]
  },
  {
   "cell_type": "code",
   "execution_count": 179,
   "metadata": {
    "id": "EPp5FK_-8gpK"
   },
   "outputs": [],
   "source": [
    "X3 = X3.apply(lemmatization_function_spacy)"
   ]
  },
  {
   "cell_type": "code",
   "execution_count": 180,
   "metadata": {
    "id": "vHHHU7Hy6D6w"
   },
   "outputs": [],
   "source": [
    "# Using word tokenizer to convert sentences into word tokens\n",
    "sentences=[]\n",
    "sentences = [nltk.word_tokenize(sentence) for sentence in X3]"
   ]
  },
  {
   "cell_type": "code",
   "execution_count": 181,
   "metadata": {
    "id": "Q15E58kG62vO"
   },
   "outputs": [],
   "source": [
    "# Removing stop words\n",
    "for i in range(len(sentences)):\n",
    "    sentences[i] = [word for word in sentences[i] if word not in stopwords.words('english')]"
   ]
  },
  {
   "cell_type": "code",
   "execution_count": 182,
   "metadata": {
    "id": "zlwt-pF97Uoo"
   },
   "outputs": [],
   "source": [
    "# Creating a customize embeddings using CBOW method(by default) for Word2Vec \n",
    "model = Word2Vec(sentences, min_count=2)"
   ]
  },
  {
   "cell_type": "code",
   "execution_count": 183,
   "metadata": {
    "id": "9ZAZi0DO7aKT"
   },
   "outputs": [],
   "source": [
    "# Initializing vocabulary in words \n",
    "words = model.wv.vocab"
   ]
  },
  {
   "cell_type": "code",
   "execution_count": 184,
   "metadata": {
    "colab": {
     "base_uri": "https://localhost:8080/",
     "height": 34
    },
    "id": "0XjBZu4C7clC",
    "outputId": "c4045775-c064-4c33-acf8-120e2a61444d"
   },
   "outputs": [
    {
     "data": {
      "text/plain": [
       "6937"
      ]
     },
     "execution_count": 184,
     "metadata": {
      "tags": []
     },
     "output_type": "execute_result"
    }
   ],
   "source": [
    "# Checking length of our vocabulary\n",
    "len(words)"
   ]
  },
  {
   "cell_type": "code",
   "execution_count": 185,
   "metadata": {
    "colab": {
     "base_uri": "https://localhost:8080/",
     "height": 302
    },
    "id": "n4FStZYw7dO0",
    "outputId": "8d6811a8-d515-4261-bdca-6b967f72aa81"
   },
   "outputs": [
    {
     "name": "stdout",
     "output_type": "stream",
     "text": [
      "[-0.33385035 -0.8475174  -0.15607741  0.08587971 -0.503473    0.1892408\n",
      "  0.6345584   0.08645012  0.7339715  -0.2252895  -0.13428481  0.15229368\n",
      "  0.56223434 -0.64435494 -0.5334693   0.32160512 -0.21347573  0.11488811\n",
      "  0.3877721  -0.7677564   0.59119064  0.73388505 -0.9868946  -0.7366786\n",
      "  1.3183991  -0.16988337 -0.4858496  -0.43563253 -0.10064092 -0.22582911\n",
      "  0.44409272  1.3371855  -1.1644049  -0.7461012   0.3719654   0.78156626\n",
      "  0.03987685  0.62235254 -0.42470288 -0.6246745   0.7094606  -0.01464618\n",
      "  0.31484643  0.42213476 -0.61608034 -0.11533866  0.00931252  0.5309613\n",
      " -0.0356039   0.10980927 -0.28233513 -0.63865703 -0.31922922  0.50392896\n",
      "  0.7006034  -0.74400383  1.1633749   0.0031386  -0.19326274 -0.24369249\n",
      "  0.0068918  -0.82341784  0.8367924  -0.53334457  0.12146839  0.17428577\n",
      "  0.1788078   0.4870763   0.52062184  0.27239668 -0.8604824  -0.82413286\n",
      "  0.28563076 -0.655094   -0.3828846  -0.029964   -0.43908495  0.7222465\n",
      "  0.2579452   0.03881463 -0.4144165   0.4551676   0.80346507  0.5426765\n",
      " -0.41733032  0.9485999   0.5376227  -1.2412323  -0.5691762   0.5766286\n",
      " -0.43949857  0.69657505 -0.09291586  0.2776278   0.7978753  -0.35150784\n",
      "  1.105251    0.24036631 -0.08861183  0.45810062]\n"
     ]
    }
   ],
   "source": [
    "# Finding Word Vectors for word 'wine'\n",
    "vector = model.wv['wine']\n",
    "print(vector)"
   ]
  },
  {
   "cell_type": "code",
   "execution_count": 186,
   "metadata": {
    "id": "rOlKSaw27uxh"
   },
   "outputs": [],
   "source": [
    "# Creating a function for calculating avergae value of word vector for a sentence\n",
    "def AvgSentenceWeight(sentence):\n",
    "  sentence = [word for word in sentence if word in words]\n",
    "  return np.mean(model[sentence],axis=0)"
   ]
  },
  {
   "cell_type": "code",
   "execution_count": 187,
   "metadata": {
    "colab": {
     "base_uri": "https://localhost:8080/",
     "height": 218
    },
    "id": "-Bq0o5p4EuvB",
    "outputId": "f076131d-fca5-48be-85ab-81795d0d9fb8"
   },
   "outputs": [
    {
     "data": {
      "text/plain": [
       "41700    soft and still fairly tannic at the age of fou...\n",
       "12763    a dark , savory style of pinot noir , with int...\n",
       "23454    rich almost to the point of chunky ; aroma of ...\n",
       "83900    smoky and savory with a touch of spring ramps ...\n",
       "13184    this 100 % varietal wine from this new winery ...\n",
       "                               ...                        \n",
       "51939    hail from 11 different vineyard locate across ...\n",
       "80640    entice aroma of woodland berry , crush rise , ...\n",
       "65398    vintner gaetano bertani deliver a dark and del...\n",
       "83510    lean and tight than this bottling have be the ...\n",
       "1694     the northernmost beaujolais cru of saint - amo...\n",
       "Name: description, Length: 15000, dtype: object"
      ]
     },
     "execution_count": 187,
     "metadata": {
      "tags": []
     },
     "output_type": "execute_result"
    }
   ],
   "source": [
    "X3"
   ]
  },
  {
   "cell_type": "code",
   "execution_count": 188,
   "metadata": {
    "id": "QhkBABAQEnvy"
   },
   "outputs": [],
   "source": [
    "# Applying the function for our data \n",
    "Xdata = X3.apply(AvgSentenceWeight)"
   ]
  },
  {
   "cell_type": "code",
   "execution_count": 189,
   "metadata": {
    "colab": {
     "base_uri": "https://localhost:8080/",
     "height": 218
    },
    "id": "PwsezS3nE4Tc",
    "outputId": "1c3f801e-eb88-428e-ae50-994b76f481e2"
   },
   "outputs": [
    {
     "data": {
      "text/plain": [
       "41700    [0.081530534, 0.1558283, -0.024640031, 0.11930...\n",
       "12763    [0.11498597, 0.17200464, -0.0049973414, 0.0161...\n",
       "23454    [0.12823018, 0.19261324, 0.00018380086, 0.0231...\n",
       "83900    [0.11856767, 0.19200495, -0.012854189, 0.06151...\n",
       "13184    [0.14910603, 0.20815657, -0.032135386, 0.10732...\n",
       "                               ...                        \n",
       "51939    [0.13307132, 0.18980841, -0.04201915, 0.091334...\n",
       "80640    [0.11583395, 0.1888407, -0.013542376, 0.065468...\n",
       "65398    [0.09680354, 0.15136309, -0.0144967185, 0.0374...\n",
       "83510    [0.107724436, 0.17955634, -0.014147795, 0.0928...\n",
       "1694     [0.16662113, 0.24261633, 0.027173333, 0.095824...\n",
       "Name: description, Length: 15000, dtype: object"
      ]
     },
     "execution_count": 189,
     "metadata": {
      "tags": []
     },
     "output_type": "execute_result"
    }
   ],
   "source": [
    "Xdata"
   ]
  },
  {
   "cell_type": "code",
   "execution_count": 190,
   "metadata": {
    "id": "1N6vjI72E5-L"
   },
   "outputs": [],
   "source": [
    "# Converting our data to a list\n",
    "Xdata = list(Xdata)"
   ]
  },
  {
   "cell_type": "code",
   "execution_count": 192,
   "metadata": {
    "id": "xGTYeSS9E-mW"
   },
   "outputs": [],
   "source": [
    "ydata = train2['points']"
   ]
  },
  {
   "cell_type": "code",
   "execution_count": 193,
   "metadata": {
    "colab": {
     "base_uri": "https://localhost:8080/",
     "height": 218
    },
    "id": "HOoyILqQFFY1",
    "outputId": "641b8def-69e1-46c9-b4ce-085e5817a270"
   },
   "outputs": [
    {
     "data": {
      "text/plain": [
       "41700    87\n",
       "12763    87\n",
       "23454    93\n",
       "83900    89\n",
       "13184    91\n",
       "         ..\n",
       "51939    89\n",
       "80640    91\n",
       "65398    90\n",
       "83510    90\n",
       "1694     89\n",
       "Name: points, Length: 15000, dtype: int64"
      ]
     },
     "execution_count": 193,
     "metadata": {
      "tags": []
     },
     "output_type": "execute_result"
    }
   ],
   "source": [
    "ydata"
   ]
  },
  {
   "cell_type": "code",
   "execution_count": 194,
   "metadata": {
    "id": "p1TzyNO1FSPN"
   },
   "outputs": [],
   "source": [
    "from sklearn.preprocessing import MinMaxScaler\n",
    "from sklearn.preprocessing import StandardScaler\n",
    "from sklearn.model_selection import train_test_split\n",
    "import warnings\n",
    "warnings.filterwarnings('ignore')\n",
    "\n",
    "X_train, X_test, y_train, y_test = train_test_split(Xdata, ydata, random_state = 0)\n",
    "\n",
    "scaler = StandardScaler()\n",
    "X_train = scaler.fit_transform(X_train)\n",
    "X_test = scaler.transform(X_test)"
   ]
  },
  {
   "cell_type": "code",
   "execution_count": 195,
   "metadata": {
    "id": "N81hsp-pFSPQ"
   },
   "outputs": [],
   "source": [
    "from sklearn.model_selection import GridSearchCV\n",
    "from  sklearn.linear_model import Ridge\n",
    "\n",
    "param_grid = {'alpha':[0.01, 0,0.1, 1, 10]}"
   ]
  },
  {
   "cell_type": "code",
   "execution_count": 196,
   "metadata": {
    "colab": {
     "base_uri": "https://localhost:8080/",
     "height": 151
    },
    "id": "Tso5EwUCFSPS",
    "outputId": "91de134d-0c55-4066-fc92-cfa782498e74"
   },
   "outputs": [
    {
     "data": {
      "text/plain": [
       "GridSearchCV(cv=10, error_score=nan,\n",
       "             estimator=Ridge(alpha=1.0, copy_X=True, fit_intercept=True,\n",
       "                             max_iter=None, normalize=False, random_state=None,\n",
       "                             solver='auto', tol=0.001),\n",
       "             iid='deprecated', n_jobs=None,\n",
       "             param_grid={'alpha': [0.01, 0, 0.1, 1, 10]},\n",
       "             pre_dispatch='2*n_jobs', refit=True, return_train_score=True,\n",
       "             scoring=None, verbose=0)"
      ]
     },
     "execution_count": 196,
     "metadata": {
      "tags": []
     },
     "output_type": "execute_result"
    }
   ],
   "source": [
    "Grid_Ridge = GridSearchCV(Ridge(),param_grid,cv=10,return_train_score=True)\n",
    "Grid_Ridge.fit(X_train,y_train)"
   ]
  },
  {
   "cell_type": "code",
   "execution_count": 197,
   "metadata": {
    "colab": {
     "base_uri": "https://localhost:8080/",
     "height": 50
    },
    "id": "S2FSrqmyFSPT",
    "outputId": "cbbf240b-297d-43fe-ef2f-e75ddf905a6d"
   },
   "outputs": [
    {
     "name": "stdout",
     "output_type": "stream",
     "text": [
      "Best Cross-Validation Score: 0.3711\n",
      "Best Paramater: {'alpha': 0}\n"
     ]
    }
   ],
   "source": [
    "# Finding out the best parameters for the model\n",
    "\n",
    "print(\"Best Cross-Validation Score: {:.4f}\".format(Grid_Ridge.best_score_))\n",
    "print('Best Paramater:',Grid_Ridge.best_params_)"
   ]
  },
  {
   "cell_type": "code",
   "execution_count": 198,
   "metadata": {
    "colab": {
     "base_uri": "https://localhost:8080/",
     "height": 50
    },
    "id": "4PFFoQ-rFSPV",
    "outputId": "b58a26e2-e697-4fb7-8c2f-669087bde160"
   },
   "outputs": [
    {
     "name": "stdout",
     "output_type": "stream",
     "text": [
      "Best Training score: 0.3831\n",
      "Best Testing score: 0.3693\n"
     ]
    }
   ],
   "source": [
    "# Reporting the training and testing scores for the best model\n",
    "\n",
    "print(\"Best Training score: {:.4f}\".format(Grid_Ridge.score(X_train,y_train)))\n",
    "print(\"Best Testing score: {:.4f}\".format(Grid_Ridge.score(X_test,y_test)))"
   ]
  },
  {
   "cell_type": "markdown",
   "metadata": {
    "id": "fE8XuT7bbDHt"
   },
   "source": [
    "### We observe that this model with custom embeddings performs better than pre-trained word embeddings."
   ]
  }
 ],
 "metadata": {
  "accelerator": "GPU",
  "colab": {
   "collapsed_sections": [
    "Z-exsI0AYWms"
   ],
   "name": "HW2.ipynb",
   "provenance": []
  },
  "kernelspec": {
   "display_name": "Python 3",
   "language": "python",
   "name": "python3"
  },
  "language_info": {
   "codemirror_mode": {
    "name": "ipython",
    "version": 3
   },
   "file_extension": ".py",
   "mimetype": "text/x-python",
   "name": "python",
   "nbconvert_exporter": "python",
   "pygments_lexer": "ipython3",
   "version": "3.7.8"
  }
 },
 "nbformat": 4,
 "nbformat_minor": 1
}
